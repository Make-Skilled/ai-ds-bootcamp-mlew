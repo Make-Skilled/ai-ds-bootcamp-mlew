{
  "cells": [
    {
      "cell_type": "code",
      "execution_count": 1,
      "metadata": {
        "colab": {
          "base_uri": "https://localhost:8080/"
        },
        "id": "xTWM7FkISR89",
        "outputId": "e3b7a74a-7592-49e5-a859-6b7f2885c43c"
      },
      "outputs": [
        {
          "data": {
            "text/plain": [
              "-31"
            ]
          },
          "execution_count": 1,
          "metadata": {},
          "output_type": "execute_result"
        }
      ],
      "source": [
        "2-33"
      ]
    },
    {
      "cell_type": "code",
      "execution_count": 2,
      "metadata": {
        "colab": {
          "base_uri": "https://localhost:8080/"
        },
        "collapsed": true,
        "id": "g8ZCA71BTDW1",
        "outputId": "8a1a0789-67d4-4f28-abdf-deeaeeb5f059"
      },
      "outputs": [
        {
          "data": {
            "text/plain": [
              "66"
            ]
          },
          "execution_count": 2,
          "metadata": {},
          "output_type": "execute_result"
        }
      ],
      "source": [
        "33*2"
      ]
    },
    {
      "cell_type": "code",
      "execution_count": 3,
      "metadata": {
        "id": "3d3nOUjlUnTP"
      },
      "outputs": [],
      "source": [
        "a=33 # 33 (value - integer type) # 4 bytes\n",
        "b=37.5\n",
        "c='hi' # 2 bytes\n",
        "\n",
        "# Note - Variables are not declared\n",
        "# Note - Variables are assigned (defined)"
      ]
    },
    {
      "cell_type": "code",
      "execution_count": 4,
      "metadata": {
        "colab": {
          "base_uri": "https://localhost:8080/"
        },
        "id": "FDc1aAW3VPen",
        "outputId": "05859e8f-085d-48d0-e553-db080d6dc21c"
      },
      "outputs": [
        {
          "data": {
            "text/plain": [
              "33"
            ]
          },
          "execution_count": 4,
          "metadata": {},
          "output_type": "execute_result"
        }
      ],
      "source": [
        "a"
      ]
    },
    {
      "cell_type": "code",
      "execution_count": 5,
      "metadata": {
        "colab": {
          "base_uri": "https://localhost:8080/"
        },
        "id": "QUj0lsC0VTf6",
        "outputId": "da18c208-7935-4d40-ed6c-5fd7b37bf91f"
      },
      "outputs": [
        {
          "data": {
            "text/plain": [
              "37.5"
            ]
          },
          "execution_count": 5,
          "metadata": {},
          "output_type": "execute_result"
        }
      ],
      "source": [
        "b"
      ]
    },
    {
      "cell_type": "code",
      "execution_count": 6,
      "metadata": {
        "colab": {
          "base_uri": "https://localhost:8080/",
          "height": 38
        },
        "id": "ePRdqzB5VYUQ",
        "outputId": "3ad835b9-0ea0-4958-c32b-a5260a7420a8"
      },
      "outputs": [
        {
          "data": {
            "application/vnd.google.colaboratory.intrinsic+json": {
              "type": "string"
            },
            "text/plain": [
              "'hi'"
            ]
          },
          "execution_count": 6,
          "metadata": {},
          "output_type": "execute_result"
        }
      ],
      "source": [
        "c"
      ]
    },
    {
      "cell_type": "code",
      "execution_count": 7,
      "metadata": {
        "id": "-EdATPJ_V6_r"
      },
      "outputs": [],
      "source": [
        "a=b=c=1 # Multiple Variable "
      ]
    },
    {
      "cell_type": "code",
      "execution_count": 8,
      "metadata": {
        "colab": {
          "base_uri": "https://localhost:8080/"
        },
        "id": "bx5JIbAVWBk3",
        "outputId": "f8f3eef1-09b7-4cd0-8276-cbe31a45b01a"
      },
      "outputs": [
        {
          "data": {
            "text/plain": [
              "1"
            ]
          },
          "execution_count": 8,
          "metadata": {},
          "output_type": "execute_result"
        }
      ],
      "source": [
        "a"
      ]
    },
    {
      "cell_type": "code",
      "execution_count": 9,
      "metadata": {
        "colab": {
          "base_uri": "https://localhost:8080/"
        },
        "id": "JzyeOUPvWDW5",
        "outputId": "2a3d0b9e-1a6d-46bd-d2b3-992ec04529f5"
      },
      "outputs": [
        {
          "data": {
            "text/plain": [
              "1"
            ]
          },
          "execution_count": 9,
          "metadata": {},
          "output_type": "execute_result"
        }
      ],
      "source": [
        "b"
      ]
    },
    {
      "cell_type": "code",
      "execution_count": 10,
      "metadata": {
        "colab": {
          "base_uri": "https://localhost:8080/"
        },
        "id": "wFjT9coGWEhX",
        "outputId": "0c2c93d0-4f8e-4b7e-879c-6ce5d015762f"
      },
      "outputs": [
        {
          "data": {
            "text/plain": [
              "1"
            ]
          },
          "execution_count": 10,
          "metadata": {},
          "output_type": "execute_result"
        }
      ],
      "source": [
        "c"
      ]
    },
    {
      "cell_type": "code",
      "execution_count": 11,
      "metadata": {
        "id": "Uu4SvbKKWNSO"
      },
      "outputs": [],
      "source": [
        "a,b,c=33,37.5,'hi'\n",
        "#Left #Right\n",
        "\n",
        "# Operate from Right to Left"
      ]
    },
    {
      "cell_type": "code",
      "execution_count": 12,
      "metadata": {
        "colab": {
          "base_uri": "https://localhost:8080/"
        },
        "id": "ACNPcaM9WZbU",
        "outputId": "a372e2e7-9d6d-4f9b-a064-32f71ff245ee"
      },
      "outputs": [
        {
          "data": {
            "text/plain": [
              "33"
            ]
          },
          "execution_count": 12,
          "metadata": {},
          "output_type": "execute_result"
        }
      ],
      "source": [
        "a"
      ]
    },
    {
      "cell_type": "code",
      "execution_count": 13,
      "metadata": {
        "colab": {
          "base_uri": "https://localhost:8080/"
        },
        "id": "WZfVmREjWbyW",
        "outputId": "5371cd99-0b7d-4ac6-c28e-84d551af4277"
      },
      "outputs": [
        {
          "data": {
            "text/plain": [
              "37.5"
            ]
          },
          "execution_count": 13,
          "metadata": {},
          "output_type": "execute_result"
        }
      ],
      "source": [
        "b"
      ]
    },
    {
      "cell_type": "code",
      "execution_count": 14,
      "metadata": {
        "colab": {
          "base_uri": "https://localhost:8080/",
          "height": 38
        },
        "id": "C7yKygovWd64",
        "outputId": "24d5cc22-8f04-4be9-8083-b68f79ce522b"
      },
      "outputs": [
        {
          "data": {
            "application/vnd.google.colaboratory.intrinsic+json": {
              "type": "string"
            },
            "text/plain": [
              "'hi'"
            ]
          },
          "execution_count": 14,
          "metadata": {},
          "output_type": "execute_result"
        }
      ],
      "source": [
        "c"
      ]
    },
    {
      "cell_type": "code",
      "execution_count": 15,
      "metadata": {
        "id": "xH-IdKH0Wule"
      },
      "outputs": [],
      "source": [
        "a=33"
      ]
    },
    {
      "cell_type": "code",
      "execution_count": 16,
      "metadata": {
        "id": "CKHU7U48Wz5h"
      },
      "outputs": [],
      "source": [
        "del(a)"
      ]
    },
    {
      "cell_type": "code",
      "execution_count": 17,
      "metadata": {
        "colab": {
          "base_uri": "https://localhost:8080/",
          "height": 202
        },
        "id": "qBQXwdTnW3eM",
        "outputId": "d9c0f615-ed01-42cd-92f1-173d303deaef"
      },
      "outputs": [
        {
          "ename": "NameError",
          "evalue": "ignored",
          "output_type": "error",
          "traceback": [
            "\u001b[0;31m---------------------------------------------------------------------------\u001b[0m",
            "\u001b[0;31mNameError\u001b[0m                                 Traceback (most recent call last)",
            "\u001b[0;32m<ipython-input-17-3f786850e387>\u001b[0m in \u001b[0;36m<module>\u001b[0;34m\u001b[0m\n\u001b[0;32m----> 1\u001b[0;31m \u001b[0ma\u001b[0m\u001b[0;34m\u001b[0m\u001b[0;34m\u001b[0m\u001b[0m\n\u001b[0m",
            "\u001b[0;31mNameError\u001b[0m: name 'a' is not defined"
          ]
        }
      ],
      "source": [
        "a"
      ]
    },
    {
      "cell_type": "code",
      "execution_count": 18,
      "metadata": {
        "id": "Mz-rBtWyXCWs"
      },
      "outputs": [],
      "source": [
        "a=33\n",
        "b=37.5"
      ]
    },
    {
      "cell_type": "code",
      "execution_count": 19,
      "metadata": {
        "id": "pieKPpWuXFP6"
      },
      "outputs": [],
      "source": [
        "del(a,b)"
      ]
    },
    {
      "cell_type": "code",
      "execution_count": 20,
      "metadata": {
        "colab": {
          "base_uri": "https://localhost:8080/",
          "height": 202
        },
        "id": "P89vXVZYXILl",
        "outputId": "439e9d32-10bd-44eb-b0c5-2664bee1f39a"
      },
      "outputs": [
        {
          "ename": "NameError",
          "evalue": "ignored",
          "output_type": "error",
          "traceback": [
            "\u001b[0;31m---------------------------------------------------------------------------\u001b[0m",
            "\u001b[0;31mNameError\u001b[0m                                 Traceback (most recent call last)",
            "\u001b[0;32m<ipython-input-20-3f786850e387>\u001b[0m in \u001b[0;36m<module>\u001b[0;34m\u001b[0m\n\u001b[0;32m----> 1\u001b[0;31m \u001b[0ma\u001b[0m\u001b[0;34m\u001b[0m\u001b[0;34m\u001b[0m\u001b[0m\n\u001b[0m",
            "\u001b[0;31mNameError\u001b[0m: name 'a' is not defined"
          ]
        }
      ],
      "source": [
        "a"
      ]
    },
    {
      "cell_type": "code",
      "execution_count": 21,
      "metadata": {
        "colab": {
          "base_uri": "https://localhost:8080/",
          "height": 202
        },
        "id": "1ZKbF_veXJ26",
        "outputId": "b2fd6402-f8d6-4291-9171-c3337deef9dc"
      },
      "outputs": [
        {
          "ename": "NameError",
          "evalue": "ignored",
          "output_type": "error",
          "traceback": [
            "\u001b[0;31m---------------------------------------------------------------------------\u001b[0m",
            "\u001b[0;31mNameError\u001b[0m                                 Traceback (most recent call last)",
            "\u001b[0;32m<ipython-input-21-89e6c98d9288>\u001b[0m in \u001b[0;36m<module>\u001b[0;34m\u001b[0m\n\u001b[0;32m----> 1\u001b[0;31m \u001b[0mb\u001b[0m\u001b[0;34m\u001b[0m\u001b[0;34m\u001b[0m\u001b[0m\n\u001b[0m",
            "\u001b[0;31mNameError\u001b[0m: name 'b' is not defined"
          ]
        }
      ],
      "source": [
        "b"
      ]
    },
    {
      "cell_type": "code",
      "execution_count": 22,
      "metadata": {
        "id": "ernZEY2WXWfn"
      },
      "outputs": [],
      "source": [
        "a=33\n",
        "b=37.5"
      ]
    },
    {
      "cell_type": "code",
      "execution_count": null,
      "metadata": {
        "id": "s2_CF3-EXbS5"
      },
      "outputs": [],
      "source": [
        "a\n",
        "b"
      ]
    },
    {
      "cell_type": "code",
      "execution_count": 23,
      "metadata": {
        "colab": {
          "base_uri": "https://localhost:8080/"
        },
        "id": "xnS1Ooj4XmKq",
        "outputId": "819fde47-5000-46e1-f92b-14889be65e31"
      },
      "outputs": [
        {
          "name": "stdout",
          "output_type": "stream",
          "text": [
            "33 37.5\n"
          ]
        }
      ],
      "source": [
        "print (a,b)"
      ]
    },
    {
      "cell_type": "code",
      "execution_count": 24,
      "metadata": {
        "colab": {
          "base_uri": "https://localhost:8080/"
        },
        "id": "nt24gXjbX95-",
        "outputId": "ee58bd0a-45e2-43ab-ef0b-4c1090720232"
      },
      "outputs": [
        {
          "name": "stdout",
          "output_type": "stream",
          "text": [
            "33 37.5 hello\n"
          ]
        }
      ],
      "source": [
        "print(33,37.5,'hello') # int, float, str"
      ]
    },
    {
      "cell_type": "code",
      "execution_count": 25,
      "metadata": {
        "colab": {
          "base_uri": "https://localhost:8080/"
        },
        "id": "jToVwOMdYLsP",
        "outputId": "17595c37-b3be-408e-b794-292d3f37adc9"
      },
      "outputs": [
        {
          "name": "stdout",
          "output_type": "stream",
          "text": [
            "hello\n",
            "hi\n"
          ]
        }
      ],
      "source": [
        "print('hello') # by default end='\\n'\n",
        "print('hi')"
      ]
    },
    {
      "cell_type": "code",
      "execution_count": null,
      "metadata": {
        "id": "NUn5OFjnYVUD"
      },
      "outputs": [],
      "source": [
        "print('hello',end='?')\n",
        "print('hi',end='#')"
      ]
    },
    {
      "cell_type": "code",
      "execution_count": 26,
      "metadata": {
        "colab": {
          "base_uri": "https://localhost:8080/"
        },
        "id": "GpXhz8GrZIDg",
        "outputId": "79f3649f-cd26-480a-8d0f-7188077a806f"
      },
      "outputs": [
        {
          "name": "stdout",
          "output_type": "stream",
          "text": [
            "33\n"
          ]
        }
      ],
      "source": [
        "a=33 # Decimal Number (int)\n",
        "print (a)"
      ]
    },
    {
      "cell_type": "code",
      "execution_count": 27,
      "metadata": {
        "colab": {
          "base_uri": "https://localhost:8080/"
        },
        "id": "qRSYrcxYZSCh",
        "outputId": "3914ee11-f767-4d28-da0b-e1e8dc6b02c3"
      },
      "outputs": [
        {
          "name": "stdout",
          "output_type": "stream",
          "text": [
            "33\n"
          ]
        }
      ],
      "source": [
        "a=0x21 # Hexa Decimal Number (int)\n",
        "print(a)"
      ]
    },
    {
      "cell_type": "code",
      "execution_count": null,
      "metadata": {
        "id": "uCa8bFWMZfRy"
      },
      "outputs": [],
      "source": [
        "a=0x21 # 16 Series\n",
        "\n",
        "# 21 - Ones (1) Tens (2)\n",
        "#16^0*(Value at Ones)+16^1*(Value at Tens)\n",
        "#1*1+16*(2)\n",
        "#1+32\n",
        "#33\n",
        "print (a)"
      ]
    },
    {
      "cell_type": "code",
      "execution_count": 28,
      "metadata": {
        "colab": {
          "base_uri": "https://localhost:8080/"
        },
        "id": "tPRgFktRaDlK",
        "outputId": "5095285c-2c77-4f3b-8926-86d7aacbdfdb"
      },
      "outputs": [
        {
          "name": "stdout",
          "output_type": "stream",
          "text": [
            "545\n"
          ]
        }
      ],
      "source": [
        "a=0x221\n",
        "\n",
        "# 16^0*1+16^1*2+16^2*2\n",
        "# 1*1+16*2+256*2\n",
        "# 1+32+512\n",
        "# 545\n",
        "print (a)"
      ]
    },
    {
      "cell_type": "code",
      "execution_count": 29,
      "metadata": {
        "colab": {
          "base_uri": "https://localhost:8080/"
        },
        "id": "NZYV9-FLacc-",
        "outputId": "29829691-e7ea-40eb-9974-912983b8678b"
      },
      "outputs": [
        {
          "name": "stdout",
          "output_type": "stream",
          "text": [
            "17\n"
          ]
        }
      ],
      "source": [
        "a=0o21 # Octal\n",
        "print (a)"
      ]
    },
    {
      "cell_type": "code",
      "execution_count": 30,
      "metadata": {
        "colab": {
          "base_uri": "https://localhost:8080/"
        },
        "id": "GgNKxbFOalFr",
        "outputId": "f37e58a7-c8de-42f3-c6f6-2a3665d98e9e"
      },
      "outputs": [
        {
          "name": "stdout",
          "output_type": "stream",
          "text": [
            "17\n"
          ]
        }
      ],
      "source": [
        "a=0o21\n",
        "\n",
        "#8^0*1+8^1*2\n",
        "#1*1+8*2\n",
        "#1+16\n",
        "#17\n",
        "print (a)"
      ]
    },
    {
      "cell_type": "code",
      "execution_count": 31,
      "metadata": {
        "colab": {
          "base_uri": "https://localhost:8080/"
        },
        "id": "YfUVvak5a2tY",
        "outputId": "3238da2e-1f35-42b3-e879-efb74b4214a7"
      },
      "outputs": [
        {
          "name": "stdout",
          "output_type": "stream",
          "text": [
            "13\n"
          ]
        }
      ],
      "source": [
        "a=0b1101\n",
        "print (a)"
      ]
    },
    {
      "cell_type": "code",
      "execution_count": null,
      "metadata": {
        "id": "WUhPDxJ8a7km"
      },
      "outputs": [],
      "source": [
        "a=0b1101\n",
        "\n",
        "#2^0*1+2^1*0+2^2*1+2^3*1\n",
        "#1*1+2*0+4*1+8*1\n",
        "#1+0+4+8\n",
        "#13\n",
        "print (a)"
      ]
    },
    {
      "cell_type": "code",
      "execution_count": 32,
      "metadata": {
        "colab": {
          "base_uri": "https://localhost:8080/"
        },
        "id": "puJgCszxbpmZ",
        "outputId": "66d7a179-c3e4-4a53-f8fe-7d9f94daf274"
      },
      "outputs": [
        {
          "data": {
            "text/plain": [
              "int"
            ]
          },
          "execution_count": 32,
          "metadata": {},
          "output_type": "execute_result"
        }
      ],
      "source": [
        "type(0b110)"
      ]
    },
    {
      "cell_type": "code",
      "execution_count": 33,
      "metadata": {
        "colab": {
          "base_uri": "https://localhost:8080/"
        },
        "id": "U_keklH9bu7G",
        "outputId": "61fff813-b23a-4093-b962-4d27e68b0953"
      },
      "outputs": [
        {
          "data": {
            "text/plain": [
              "int"
            ]
          },
          "execution_count": 33,
          "metadata": {},
          "output_type": "execute_result"
        }
      ],
      "source": [
        "type(0x21) # value as input"
      ]
    },
    {
      "cell_type": "code",
      "execution_count": 34,
      "metadata": {
        "colab": {
          "base_uri": "https://localhost:8080/"
        },
        "id": "vErVlNTQbyAA",
        "outputId": "6b983c12-41a1-4a32-c2c4-6f43bd61bd9f"
      },
      "outputs": [
        {
          "data": {
            "text/plain": [
              "int"
            ]
          },
          "execution_count": 34,
          "metadata": {},
          "output_type": "execute_result"
        }
      ],
      "source": [
        "a=33\n",
        "type(a) # variable as an input"
      ]
    },
    {
      "cell_type": "code",
      "execution_count": 35,
      "metadata": {
        "colab": {
          "base_uri": "https://localhost:8080/"
        },
        "id": "5aQm0CZDcD0H",
        "outputId": "0dbb7bf9-382c-4141-e91b-f3b7d31f7552"
      },
      "outputs": [
        {
          "data": {
            "text/plain": [
              "float"
            ]
          },
          "execution_count": 35,
          "metadata": {},
          "output_type": "execute_result"
        }
      ],
      "source": [
        "a=37.5\n",
        "type(a)"
      ]
    },
    {
      "cell_type": "code",
      "execution_count": 36,
      "metadata": {
        "colab": {
          "base_uri": "https://localhost:8080/"
        },
        "id": "htuYSPcocJIu",
        "outputId": "4f58288b-cf33-4f86-db09-215f40653032"
      },
      "outputs": [
        {
          "data": {
            "text/plain": [
              "str"
            ]
          },
          "execution_count": 36,
          "metadata": {},
          "output_type": "execute_result"
        }
      ],
      "source": [
        "a='hi'\n",
        "type(a)"
      ]
    },
    {
      "cell_type": "code",
      "execution_count": 37,
      "metadata": {
        "colab": {
          "base_uri": "https://localhost:8080/"
        },
        "id": "Lht7Co3ncYUo",
        "outputId": "fe1a9ea9-ff07-4d93-9544-dadc7237e25b"
      },
      "outputs": [
        {
          "name": "stdout",
          "output_type": "stream",
          "text": [
            "(2+3j)\n"
          ]
        }
      ],
      "source": [
        "a=2+3j\n",
        "print(a)"
      ]
    },
    {
      "cell_type": "code",
      "execution_count": 38,
      "metadata": {
        "colab": {
          "base_uri": "https://localhost:8080/"
        },
        "id": "qcNumm-ockX2",
        "outputId": "9ae7249d-f456-4282-aa41-74f986ad5d29"
      },
      "outputs": [
        {
          "data": {
            "text/plain": [
              "complex"
            ]
          },
          "execution_count": 38,
          "metadata": {},
          "output_type": "execute_result"
        }
      ],
      "source": [
        "type(a)"
      ]
    },
    {
      "cell_type": "code",
      "execution_count": null,
      "metadata": {
        "id": "pnfLs2fBcw_I"
      },
      "outputs": [],
      "source": [
        "a=37.5\n",
        "type(a) # type(a) is called directly"
      ]
    },
    {
      "cell_type": "code",
      "execution_count": 39,
      "metadata": {
        "colab": {
          "base_uri": "https://localhost:8080/"
        },
        "id": "lNSA4rS9c1Mn",
        "outputId": "fde31263-4013-4163-adcb-42d5e36f8cfb"
      },
      "outputs": [
        {
          "name": "stdout",
          "output_type": "stream",
          "text": [
            "40000.0 <class 'float'>\n"
          ]
        }
      ],
      "source": [
        "a=4E4 # 4*10^4\n",
        "print (a,type(a)) # type(a) is called through print"
      ]
    },
    {
      "cell_type": "code",
      "execution_count": 40,
      "metadata": {
        "colab": {
          "base_uri": "https://localhost:8080/"
        },
        "id": "5bJRiKOodMD5",
        "outputId": "8dfbc6cd-54ef-4948-81c3-63ceb36e09c3"
      },
      "outputs": [
        {
          "name": "stdout",
          "output_type": "stream",
          "text": [
            "4e-07 <class 'float'>\n"
          ]
        }
      ],
      "source": [
        "a=4E-7 # 4*10^-7\n",
        "print(a,type(a))"
      ]
    },
    {
      "cell_type": "code",
      "execution_count": null,
      "metadata": {
        "id": "3FoX2bmRdZkn"
      },
      "outputs": [],
      "source": [
        "a=1.8E308 # Largest Floating Point\n",
        "print (a)"
      ]
    },
    {
      "cell_type": "code",
      "execution_count": null,
      "metadata": {
        "id": "lMzlSqtfdm-Q"
      },
      "outputs": [],
      "source": [
        "a=5E-324 # Smallest Floating Point Number\n",
        "print (a)"
      ]
    },
    {
      "cell_type": "code",
      "execution_count": 41,
      "metadata": {
        "colab": {
          "base_uri": "https://localhost:8080/"
        },
        "id": "3n4eb2SteD6e",
        "outputId": "42d061e3-904b-4815-e962-fe8de7da0bbe"
      },
      "outputs": [
        {
          "name": "stdout",
          "output_type": "stream",
          "text": [
            "hi <class 'str'>\n"
          ]
        }
      ],
      "source": [
        "a='hi'\n",
        "print (a, type(a))"
      ]
    },
    {
      "cell_type": "code",
      "execution_count": 42,
      "metadata": {
        "colab": {
          "base_uri": "https://localhost:8080/",
          "height": 219
        },
        "id": "EH4OxHT7eIb9",
        "outputId": "4e2efe30-8478-4b56-b9d9-2ea79bb27017"
      },
      "outputs": [
        {
          "ename": "TypeError",
          "evalue": "ignored",
          "output_type": "error",
          "traceback": [
            "\u001b[0;31m---------------------------------------------------------------------------\u001b[0m",
            "\u001b[0;31mTypeError\u001b[0m                                 Traceback (most recent call last)",
            "\u001b[0;32m<ipython-input-42-10c04bd2cca4>\u001b[0m in \u001b[0;36m<module>\u001b[0;34m\u001b[0m\n\u001b[0;32m----> 1\u001b[0;31m \u001b[0ma\u001b[0m\u001b[0;34m=\u001b[0m\u001b[0;34m'hi'\u001b[0m\u001b[0;34m+\u001b[0m\u001b[0;36m3\u001b[0m \u001b[0;31m# appending two values\u001b[0m\u001b[0;34m\u001b[0m\u001b[0;34m\u001b[0m\u001b[0m\n\u001b[0m\u001b[1;32m      2\u001b[0m \u001b[0mprint\u001b[0m \u001b[0;34m(\u001b[0m\u001b[0ma\u001b[0m\u001b[0;34m)\u001b[0m\u001b[0;34m\u001b[0m\u001b[0;34m\u001b[0m\u001b[0m\n",
            "\u001b[0;31mTypeError\u001b[0m: can only concatenate str (not \"int\") to str"
          ]
        }
      ],
      "source": [
        "a='hi'+3 # appending two values\n",
        "print (a)"
      ]
    },
    {
      "cell_type": "code",
      "execution_count": 43,
      "metadata": {
        "colab": {
          "base_uri": "https://localhost:8080/"
        },
        "id": "p3WTCOHKeWWz",
        "outputId": "f3252cac-0981-4618-a373-3fbddfee3e4d"
      },
      "outputs": [
        {
          "name": "stdout",
          "output_type": "stream",
          "text": [
            "hi3\n"
          ]
        }
      ],
      "source": [
        "# Typecasting - a process of converting\n",
        "# one datatype to other datatype\n",
        "# converting int to str\n",
        "a='hi'+str(3) # 3 is typecasted to '3'\n",
        "print(a)"
      ]
    },
    {
      "cell_type": "code",
      "execution_count": 44,
      "metadata": {
        "colab": {
          "base_uri": "https://localhost:8080/"
        },
        "id": "jVfS6uoLe8IQ",
        "outputId": "cadf380f-52a5-44f1-faec-47047382e533"
      },
      "outputs": [
        {
          "name": "stdout",
          "output_type": "stream",
          "text": [
            "<class 'str'>\n"
          ]
        }
      ],
      "source": [
        "a='23'\n",
        "print(type(a))"
      ]
    },
    {
      "cell_type": "code",
      "execution_count": null,
      "metadata": {
        "id": "n4ZXksGmfCW7"
      },
      "outputs": [],
      "source": [
        "a='hi'+'hello'\n",
        "print(a)"
      ]
    },
    {
      "cell_type": "code",
      "execution_count": 47,
      "metadata": {
        "colab": {
          "base_uri": "https://localhost:8080/"
        },
        "id": "AkSacBuciNWz",
        "outputId": "e1999c48-09fd-4395-8a2b-82ccfbcdfd81"
      },
      "outputs": [
        {
          "name": "stdout",
          "output_type": "stream",
          "text": [
            "mad'blocks\n"
          ]
        }
      ],
      "source": [
        "# Escape Sequences\n",
        "a='mad\\'blocks'\n",
        "print (a)\n",
        "# mad'blocks"
      ]
    },
    {
      "cell_type": "code",
      "execution_count": 48,
      "metadata": {
        "colab": {
          "base_uri": "https://localhost:8080/"
        },
        "id": "1BC45irZjgJl",
        "outputId": "9fae2dd0-e437-46f0-c93c-58fb14ba3d82"
      },
      "outputs": [
        {
          "name": "stdout",
          "output_type": "stream",
          "text": [
            "mad\"blocks\n"
          ]
        }
      ],
      "source": [
        "a=\"mad\\\"blocks\"\n",
        "print (a)\n",
        "\n",
        "# mad\"blocks"
      ]
    },
    {
      "cell_type": "code",
      "execution_count": 49,
      "metadata": {
        "colab": {
          "base_uri": "https://localhost:8080/"
        },
        "id": "aCltEtTGjrW7",
        "outputId": "1bd5d0f4-4128-41a4-8dfe-8192438c97d3"
      },
      "outputs": [
        {
          "name": "stdout",
          "output_type": "stream",
          "text": [
            "mad\\blocks\n"
          ]
        }
      ],
      "source": [
        "a='mad\\\\blocks'\n",
        "print(a)\n",
        "\n",
        "# mad\\blocks"
      ]
    },
    {
      "cell_type": "code",
      "execution_count": 50,
      "metadata": {
        "colab": {
          "base_uri": "https://localhost:8080/"
        },
        "id": "npONAuY1kAiv",
        "outputId": "db084c00-7cde-40b5-eac3-56715dac185d"
      },
      "outputs": [
        {
          "name": "stdout",
          "output_type": "stream",
          "text": [
            "mad blocks madhu\n"
          ]
        }
      ],
      "source": [
        "a='mad \\\n",
        "blocks \\\n",
        "madhu'\n",
        "print (a)"
      ]
    },
    {
      "cell_type": "code",
      "execution_count": null,
      "metadata": {
        "id": "R8BlKYd3kTUl"
      },
      "outputs": [],
      "source": [
        "a='mad\\tblocks'\n",
        "print (a)"
      ]
    },
    {
      "cell_type": "code",
      "execution_count": null,
      "metadata": {
        "id": "pMWzL8SDkaKH"
      },
      "outputs": [],
      "source": [
        "a='mad\\nblocks'\n",
        "print (a)"
      ]
    },
    {
      "cell_type": "code",
      "execution_count": 51,
      "metadata": {
        "colab": {
          "base_uri": "https://localhost:8080/"
        },
        "id": "kC9ouF6OkuMm",
        "outputId": "06fbea74-376d-4c4d-aac3-00bd209a099a"
      },
      "outputs": [
        {
          "name": "stdout",
          "output_type": "stream",
          "text": [
            "madblocks\n",
            "madhu\n"
          ]
        }
      ],
      "source": [
        "s='madblocks'\n",
        "print (s)\n",
        "s='madhu'\n",
        "print (s) # you can update the value of a string"
      ]
    },
    {
      "cell_type": "code",
      "execution_count": 52,
      "metadata": {
        "colab": {
          "base_uri": "https://localhost:8080/",
          "height": 237
        },
        "id": "sjjfYd1TlE0D",
        "outputId": "dd915265-4df5-4cf8-afe3-1b345041f905"
      },
      "outputs": [
        {
          "ename": "TypeError",
          "evalue": "ignored",
          "output_type": "error",
          "traceback": [
            "\u001b[0;31m---------------------------------------------------------------------------\u001b[0m",
            "\u001b[0;31mTypeError\u001b[0m                                 Traceback (most recent call last)",
            "\u001b[0;32m<ipython-input-52-d737665cf8cb>\u001b[0m in \u001b[0;36m<module>\u001b[0;34m\u001b[0m\n\u001b[1;32m      1\u001b[0m \u001b[0ms\u001b[0m\u001b[0;34m=\u001b[0m\u001b[0;34m'madblocks'\u001b[0m\u001b[0;34m\u001b[0m\u001b[0;34m\u001b[0m\u001b[0m\n\u001b[0;32m----> 2\u001b[0;31m \u001b[0ms\u001b[0m\u001b[0;34m[\u001b[0m\u001b[0;36m0\u001b[0m\u001b[0;34m]\u001b[0m\u001b[0;34m=\u001b[0m\u001b[0;34m'y'\u001b[0m \u001b[0;31m# index value of a string s\u001b[0m\u001b[0;34m\u001b[0m\u001b[0;34m\u001b[0m\u001b[0m\n\u001b[0m\u001b[1;32m      3\u001b[0m \u001b[0mprint\u001b[0m \u001b[0;34m(\u001b[0m\u001b[0ms\u001b[0m\u001b[0;34m)\u001b[0m\u001b[0;34m\u001b[0m\u001b[0;34m\u001b[0m\u001b[0m\n",
            "\u001b[0;31mTypeError\u001b[0m: 'str' object does not support item assignment"
          ]
        }
      ],
      "source": [
        "s='madblocks'\n",
        "s[0]='y' # index value of a string s\n",
        "print (s)"
      ]
    },
    {
      "cell_type": "code",
      "execution_count": 53,
      "metadata": {
        "colab": {
          "base_uri": "https://localhost:8080/"
        },
        "id": "vE9gXahpluYB",
        "outputId": "d045a6cc-09c9-411d-a936-d5823f38f965"
      },
      "outputs": [
        {
          "name": "stdout",
          "output_type": "stream",
          "text": [
            "9\n"
          ]
        }
      ],
      "source": [
        "# String Slicing\n",
        "# Accessing the substrings\n",
        "# Removing the characters or accessing the characters\n",
        "\n",
        "s='madblocks' # 0,1,2,3......len(s)\n",
        "print(len(s))"
      ]
    },
    {
      "cell_type": "code",
      "execution_count": 54,
      "metadata": {
        "colab": {
          "base_uri": "https://localhost:8080/"
        },
        "id": "u-lU0pj_mZTx",
        "outputId": "f42ea7b8-b0a9-42e3-f37c-94de9fdd87c9"
      },
      "outputs": [
        {
          "name": "stdout",
          "output_type": "stream",
          "text": [
            "b\n"
          ]
        }
      ],
      "source": [
        "print(s[3]) "
      ]
    },
    {
      "cell_type": "code",
      "execution_count": 55,
      "metadata": {
        "colab": {
          "base_uri": "https://localhost:8080/"
        },
        "id": "os4o2eJYmJSx",
        "outputId": "12527b59-5e8b-4409-bcb7-28ff64507b18"
      },
      "outputs": [
        {
          "name": "stdout",
          "output_type": "stream",
          "text": [
            "m\n"
          ]
        }
      ],
      "source": [
        "print (s[0])"
      ]
    },
    {
      "cell_type": "code",
      "execution_count": 56,
      "metadata": {
        "colab": {
          "base_uri": "https://localhost:8080/"
        },
        "id": "nQdDb6ejmPAf",
        "outputId": "69fc78f1-777f-4621-ecf1-266c68f1d0fc"
      },
      "outputs": [
        {
          "name": "stdout",
          "output_type": "stream",
          "text": [
            "d\n"
          ]
        }
      ],
      "source": [
        "print (s[2])"
      ]
    },
    {
      "cell_type": "code",
      "execution_count": 57,
      "metadata": {
        "colab": {
          "base_uri": "https://localhost:8080/"
        },
        "id": "Vq3dtX7XmuAx",
        "outputId": "64161e6b-5ceb-4e6f-a34d-966610af7d94"
      },
      "outputs": [
        {
          "name": "stdout",
          "output_type": "stream",
          "text": [
            " \n"
          ]
        }
      ],
      "source": [
        "s='madblocks '\n",
        "print(s[-1]) "
      ]
    },
    {
      "cell_type": "code",
      "execution_count": 58,
      "metadata": {
        "colab": {
          "base_uri": "https://localhost:8080/"
        },
        "id": "E7hp_u7gm_hk",
        "outputId": "056cd9c0-47fd-4eda-e145-80fc8f6a14fd"
      },
      "outputs": [
        {
          "name": "stdout",
          "output_type": "stream",
          "text": [
            "l\n"
          ]
        }
      ],
      "source": [
        "s='madblocks'\n",
        "print(s[-5]) "
      ]
    },
    {
      "cell_type": "code",
      "execution_count": 59,
      "metadata": {
        "colab": {
          "base_uri": "https://localhost:8080/"
        },
        "id": "sZJiVoUOnPwH",
        "outputId": "7d6c079a-c345-42bd-bda1-d225b028926f"
      },
      "outputs": [
        {
          "name": "stdout",
          "output_type": "stream",
          "text": [
            "adbl\n"
          ]
        }
      ],
      "source": [
        "s='madblocks'\n",
        "print(s[1:5]) # start:stop adbl only upto stop-1"
      ]
    },
    {
      "cell_type": "code",
      "execution_count": 60,
      "metadata": {
        "colab": {
          "base_uri": "https://localhost:8080/"
        },
        "id": "Bga9sCUYnl8Z",
        "outputId": "633a18cc-d3ed-4ba1-9ab6-1b33bda31b9c"
      },
      "outputs": [
        {
          "name": "stdout",
          "output_type": "stream",
          "text": [
            "db\n"
          ]
        }
      ],
      "source": [
        "s='madblocks'\n",
        "print(s[2:4]) # db 2,3"
      ]
    },
    {
      "cell_type": "code",
      "execution_count": 61,
      "metadata": {
        "colab": {
          "base_uri": "https://localhost:8080/"
        },
        "id": "qjK_uWc7n7HD",
        "outputId": "e9e7633d-8310-48a0-df8e-c7128d5be42d"
      },
      "outputs": [
        {
          "name": "stdout",
          "output_type": "stream",
          "text": [
            "mad\n"
          ]
        }
      ],
      "source": [
        "s='madblocks'\n",
        "print(s[:3]) # start value - 0 s[0:3] mad"
      ]
    },
    {
      "cell_type": "code",
      "execution_count": 62,
      "metadata": {
        "colab": {
          "base_uri": "https://localhost:8080/"
        },
        "id": "9BtuZdWyoPIb",
        "outputId": "5ef12b7d-253e-49af-bf30-0809dce7bb2f"
      },
      "outputs": [
        {
          "name": "stdout",
          "output_type": "stream",
          "text": [
            "blocks\n"
          ]
        }
      ],
      "source": [
        "s='madblocks'\n",
        "print(s[3:]) # start value - 3, stop value - len(s)\n",
        "\n",
        "# No Start Value - 0\n",
        "# No Stop Value - len(str)"
      ]
    },
    {
      "cell_type": "code",
      "execution_count": 63,
      "metadata": {
        "colab": {
          "base_uri": "https://localhost:8080/"
        },
        "id": "SASL0G7-oq8H",
        "outputId": "d83fd774-c2bb-41c8-879f-983c0268666a"
      },
      "outputs": [
        {
          "name": "stdout",
          "output_type": "stream",
          "text": [
            "madblocks\n"
          ]
        }
      ],
      "source": [
        "s='madblocks'\n",
        "print(s[0:]) # start value - 0 stop value - len(s)\n"
      ]
    },
    {
      "cell_type": "code",
      "execution_count": null,
      "metadata": {
        "id": "HLGwAxs-o_uW"
      },
      "outputs": [],
      "source": [
        "s='madblocks'\n",
        "print(s[:3]) # No Start Value, Stop Value 3"
      ]
    },
    {
      "cell_type": "code",
      "execution_count": 64,
      "metadata": {
        "colab": {
          "base_uri": "https://localhost:8080/"
        },
        "id": "XBJ1-23qpNNq",
        "outputId": "9e6154af-f6b0-4eb3-a4f8-b3929097bb0d"
      },
      "outputs": [
        {
          "name": "stdout",
          "output_type": "stream",
          "text": [
            "madblo\n"
          ]
        }
      ],
      "source": [
        "s='madblocks'\n",
        "print(s[:-3]) # Start Value - 0, Stop Value is -3"
      ]
    },
    {
      "cell_type": "code",
      "execution_count": null,
      "metadata": {
        "id": "FfifnLCppl9x"
      },
      "outputs": [],
      "source": [
        "s='madblocks'\n",
        "print(s[:-1]) # Start Value - 0, Stop Value is -1"
      ]
    },
    {
      "cell_type": "code",
      "execution_count": 65,
      "metadata": {
        "colab": {
          "base_uri": "https://localhost:8080/"
        },
        "id": "LpAkfGRYpzX4",
        "outputId": "8ceb9ec5-f7a7-4a36-de2a-050373109fa5"
      },
      "outputs": [
        {
          "name": "stdout",
          "output_type": "stream",
          "text": [
            "mdl\n"
          ]
        }
      ],
      "source": [
        "s='madblocks'\n",
        "print(s[0:5:2]) # Start Index, Stop Index, Step Index\n",
        "# 0 2 4\n",
        "#mdl"
      ]
    },
    {
      "cell_type": "code",
      "execution_count": null,
      "metadata": {
        "id": "zB9b3B-Gqbu8"
      },
      "outputs": [],
      "source": [
        "s='madblocks'\n",
        "print(s[6:18:3]) # Start - 6, Stop - 18, Step - 3\n",
        "# 6,9,12,15\n",
        "#c co"
      ]
    },
    {
      "cell_type": "code",
      "execution_count": 66,
      "metadata": {
        "colab": {
          "base_uri": "https://localhost:8080/"
        },
        "id": "C8oFlJjGrXbB",
        "outputId": "6df7e5eb-e115-4566-931d-eb90ec4bdbc6"
      },
      "outputs": [
        {
          "name": "stdout",
          "output_type": "stream",
          "text": [
            "ab\n"
          ]
        }
      ],
      "source": [
        "s='madblocks'\n",
        "print(s[1:5:2]) # start - 3 s[3], stop - 15-s[15], step - 3"
      ]
    },
    {
      "cell_type": "code",
      "execution_count": 67,
      "metadata": {
        "colab": {
          "base_uri": "https://localhost:8080/"
        },
        "id": "ep3ILzGTr4mt",
        "outputId": "4a9265ba-4673-43db-9b6c-b9ece279d834"
      },
      "outputs": [
        {
          "name": "stdout",
          "output_type": "stream",
          "text": [
            "mbc\n"
          ]
        }
      ],
      "source": [
        "s='madblocks'\n",
        "print(s[::3]) # start - 0, stop - till end - step -3"
      ]
    },
    {
      "cell_type": "code",
      "execution_count": null,
      "metadata": {
        "id": "yr7sJQ61slrA"
      },
      "outputs": [],
      "source": [
        "s='madblocks'\n",
        "print(s[::2]) # start - 0 stop - till last step - 2\n",
        "\n",
        "# mdlcs"
      ]
    },
    {
      "cell_type": "code",
      "execution_count": 68,
      "metadata": {
        "colab": {
          "base_uri": "https://localhost:8080/"
        },
        "id": "FeUq4nBes9ov",
        "outputId": "ad511a8f-821e-4a64-cfec-3a233769b65e"
      },
      "outputs": [
        {
          "name": "stdout",
          "output_type": "stream",
          "text": [
            "skcolbdam\n"
          ]
        }
      ],
      "source": [
        "s='madblocks'\n",
        "print(s[::-1]) # reversing the string"
      ]
    },
    {
      "cell_type": "code",
      "execution_count": 71,
      "metadata": {
        "colab": {
          "base_uri": "https://localhost:8080/"
        },
        "id": "rqdY14SGg3SP",
        "outputId": "178b4b2a-2274-4ed5-8249-7f1a6621b8d4"
      },
      "outputs": [
        {
          "name": "stdout",
          "output_type": "stream",
          "text": [
            "(3, 2, 1)\n"
          ]
        }
      ],
      "source": [
        "a=(1,2,3)\n",
        "print(a[::-1])"
      ]
    },
    {
      "cell_type": "code",
      "execution_count": null,
      "metadata": {
        "id": "pAQatf6etOez"
      },
      "outputs": [],
      "source": [
        "s='ABCDEFGHIJKLMNOPQRSTUVWXYZ'\n",
        "print(s[::-2])\n",
        "\n",
        "# ZYXWVUTSRQPONMLKJIHGFEDCBA [::2]\n",
        "# ZXVTRPNLJHFDB\n",
        "\n",
        "# [::-1] skcolbdam [::2]\n",
        "# [::-2] scldm\n",
        "\n",
        "# [::-3] -> [::-1] -> [::3]"
      ]
    },
    {
      "cell_type": "code",
      "execution_count": 72,
      "metadata": {
        "colab": {
          "base_uri": "https://localhost:8080/"
        },
        "id": "WcpZUgDku7ar",
        "outputId": "b90f899f-2215-41d0-e389-5df616399ae3"
      },
      "outputs": [
        {
          "name": "stdout",
          "output_type": "stream",
          "text": [
            "<class 'list'>\n",
            "[33, 37.5, 'hello', (3+2j)]\n"
          ]
        }
      ],
      "source": [
        "s=[33,37.5,'hello',3+2j]\n",
        "# int, float, str, complex\n",
        "# included in []\n",
        "print(type(s)) # type - built in method which is used to find data tatype\n",
        "print (s)"
      ]
    },
    {
      "cell_type": "code",
      "execution_count": 73,
      "metadata": {
        "colab": {
          "base_uri": "https://localhost:8080/"
        },
        "id": "pVeoial5vcrD",
        "outputId": "89b06db3-1262-4442-b26e-dbf5cd55f2bf"
      },
      "outputs": [
        {
          "name": "stdout",
          "output_type": "stream",
          "text": [
            "33 (3+2j)\n"
          ]
        }
      ],
      "source": [
        "s=[33,37.5,'hello',3+2j]\n",
        "print(s[0],s[-1]) # index - 0, negative index -> -1"
      ]
    },
    {
      "cell_type": "code",
      "execution_count": 74,
      "metadata": {
        "colab": {
          "base_uri": "https://localhost:8080/"
        },
        "id": "1OywWJFNvv_0",
        "outputId": "f885222e-df33-4b08-93c1-4ae9c9a66c1c"
      },
      "outputs": [
        {
          "name": "stdout",
          "output_type": "stream",
          "text": [
            "hello\n"
          ]
        }
      ],
      "source": [
        "s=[33,37.5,'hello',3+2j]\n",
        "print(s[2]) # value at 2nd index"
      ]
    },
    {
      "cell_type": "code",
      "execution_count": 75,
      "metadata": {
        "colab": {
          "base_uri": "https://localhost:8080/"
        },
        "id": "6aAbCr6gwCW9",
        "outputId": "14573193-21c0-4715-99bc-6342bd9e65ed"
      },
      "outputs": [
        {
          "name": "stdout",
          "output_type": "stream",
          "text": [
            "[33, 37.5, 'hello']\n"
          ]
        }
      ],
      "source": [
        "s=[33,37.5,'hello',3+2j]\n",
        "print(s[0:3]) # s[0], s[1],s[2]"
      ]
    },
    {
      "cell_type": "code",
      "execution_count": 76,
      "metadata": {
        "colab": {
          "base_uri": "https://localhost:8080/"
        },
        "id": "N037UmfywaGu",
        "outputId": "e13859b5-60e8-4722-91bf-fc9d77ed041e"
      },
      "outputs": [
        {
          "name": "stdout",
          "output_type": "stream",
          "text": [
            "[33, 37.5]\n"
          ]
        }
      ],
      "source": [
        "s=[33,37.5,'hello',3+2j]\n",
        "print(s[:2]) # start - 0, stop - 2"
      ]
    },
    {
      "cell_type": "code",
      "execution_count": 77,
      "metadata": {
        "colab": {
          "base_uri": "https://localhost:8080/"
        },
        "id": "aMv3mhhKwm7-",
        "outputId": "26314692-8d75-4b7e-daf1-8dd5a8020666"
      },
      "outputs": [
        {
          "name": "stdout",
          "output_type": "stream",
          "text": [
            "[1, 3, 5, 7]\n"
          ]
        }
      ],
      "source": [
        "s=[1,2,3,4,5,6,7,8,9,10]\n",
        "print(s[0:7:2])\n",
        "# 0, 2, 4, 6"
      ]
    },
    {
      "cell_type": "code",
      "execution_count": 78,
      "metadata": {
        "colab": {
          "base_uri": "https://localhost:8080/"
        },
        "id": "AD1FCnlCxM3s",
        "outputId": "a10e29ff-1920-4a30-d608-a24e2a437a9b"
      },
      "outputs": [
        {
          "name": "stdout",
          "output_type": "stream",
          "text": [
            "[(3+2j), 'hello', 37.5, 33]\n"
          ]
        }
      ],
      "source": [
        "s=[33,37.5,'hello',3+2j]\n",
        "print(s[::-1])"
      ]
    },
    {
      "cell_type": "code",
      "execution_count": 79,
      "metadata": {
        "colab": {
          "base_uri": "https://localhost:8080/"
        },
        "id": "joDo_HFzxWJ_",
        "outputId": "7975b6b7-a3d9-472c-8439-e43d9021e394"
      },
      "outputs": [
        {
          "name": "stdout",
          "output_type": "stream",
          "text": [
            "[(3+2j), 37.5]\n"
          ]
        }
      ],
      "source": [
        "s=[33,37.5,'hello',3+2j] # s[::2], s[::-2] (s[::-1],s[::2])\n",
        "print (s[::-3])\n",
        "\n",
        "# reverse the list -> [::3]\n",
        "# [3+2j,'hello',37.5,33]  # reverse \n",
        "# 3+2j,37.5 "
      ]
    },
    {
      "cell_type": "code",
      "execution_count": 80,
      "metadata": {
        "colab": {
          "base_uri": "https://localhost:8080/"
        },
        "id": "Mypk_AWlyMbY",
        "outputId": "67c57ac1-e11f-4b8c-e9eb-f28a8c23a405"
      },
      "outputs": [
        {
          "name": "stdout",
          "output_type": "stream",
          "text": [
            "[35, 37.5, 'hello']\n"
          ]
        }
      ],
      "source": [
        "s=[33,37.5,'hello']\n",
        "s[0]=35\n",
        "print (s) # lists are mutable"
      ]
    },
    {
      "cell_type": "code",
      "execution_count": null,
      "metadata": {
        "id": "2VLEEKGNygvd"
      },
      "outputs": [],
      "source": [
        "s=[33,37.5,'hello']\n",
        "a=10 # int value (non-list)\n",
        "s.append(a) # a is appended to the list s\n",
        "print (s)"
      ]
    },
    {
      "cell_type": "code",
      "execution_count": null,
      "metadata": {
        "id": "xtFtt_fXyzZX"
      },
      "outputs": [],
      "source": [
        "s=[33,37.5,'hello']\n",
        "a=[10] # list\n",
        "print(s+a)\n"
      ]
    },
    {
      "cell_type": "code",
      "execution_count": 82,
      "metadata": {
        "colab": {
          "base_uri": "https://localhost:8080/"
        },
        "id": "dvLiVA7ozNVH",
        "outputId": "2cce82ee-3d1d-4fa4-8fdd-89af5a5e71eb"
      },
      "outputs": [
        {
          "name": "stdout",
          "output_type": "stream",
          "text": [
            "[35, 37.5]\n",
            "[35, 37.5]\n"
          ]
        }
      ],
      "source": [
        "a=[33,37.5]\n",
        "b=a # address of a is assigned to b (a,b are pointing to same addr)\n",
        "a[0]=35 # call by reference\n",
        "print (a)\n",
        "print (b)"
      ]
    },
    {
      "cell_type": "code",
      "execution_count": 83,
      "metadata": {
        "colab": {
          "base_uri": "https://localhost:8080/"
        },
        "id": "yRsJuwwqz3c7",
        "outputId": "2e9e1696-db40-4895-ac82-0d24678df34f"
      },
      "outputs": [
        {
          "name": "stdout",
          "output_type": "stream",
          "text": [
            "[1, 2, 1, 2, 1, 2]\n"
          ]
        }
      ],
      "source": [
        "a=[1,2]\n",
        "print(a*3)"
      ]
    },
    {
      "cell_type": "code",
      "execution_count": 84,
      "metadata": {
        "colab": {
          "base_uri": "https://localhost:8080/"
        },
        "id": "pNhziUWl0FZI",
        "outputId": "12b6e748-29c1-4438-d5f9-7fb2ac8d2070"
      },
      "outputs": [
        {
          "name": "stdout",
          "output_type": "stream",
          "text": [
            "hihihi\n"
          ]
        }
      ],
      "source": [
        "a='hi'\n",
        "print(a*3)"
      ]
    },
    {
      "cell_type": "code",
      "execution_count": 85,
      "metadata": {
        "colab": {
          "base_uri": "https://localhost:8080/"
        },
        "id": "WYiPsWLx0Rxe",
        "outputId": "8db7c334-957b-4d05-a3c7-0abe250a08a2"
      },
      "outputs": [
        {
          "name": "stdout",
          "output_type": "stream",
          "text": [
            "<class 'tuple'>\n"
          ]
        }
      ],
      "source": [
        "# Tuple\n",
        "a=(33,37.5,'hello')\n",
        "print(type(a))"
      ]
    },
    {
      "cell_type": "code",
      "execution_count": 86,
      "metadata": {
        "colab": {
          "base_uri": "https://localhost:8080/",
          "height": 237
        },
        "id": "xHgKn7FW0f6f",
        "outputId": "ec652e12-51c4-4bfd-c8c6-7fa7695e68d3"
      },
      "outputs": [
        {
          "ename": "TypeError",
          "evalue": "ignored",
          "output_type": "error",
          "traceback": [
            "\u001b[0;31m---------------------------------------------------------------------------\u001b[0m",
            "\u001b[0;31mTypeError\u001b[0m                                 Traceback (most recent call last)",
            "\u001b[0;32m<ipython-input-86-26f149aa7cb8>\u001b[0m in \u001b[0;36m<module>\u001b[0;34m\u001b[0m\n\u001b[1;32m      1\u001b[0m \u001b[0ma\u001b[0m\u001b[0;34m=\u001b[0m\u001b[0;34m(\u001b[0m\u001b[0;36m33\u001b[0m\u001b[0;34m,\u001b[0m\u001b[0;36m37.5\u001b[0m\u001b[0;34m,\u001b[0m\u001b[0;34m'hello'\u001b[0m\u001b[0;34m)\u001b[0m\u001b[0;34m\u001b[0m\u001b[0;34m\u001b[0m\u001b[0m\n\u001b[0;32m----> 2\u001b[0;31m \u001b[0ma\u001b[0m\u001b[0;34m[\u001b[0m\u001b[0;36m0\u001b[0m\u001b[0;34m]\u001b[0m\u001b[0;34m=\u001b[0m\u001b[0;36m35\u001b[0m\u001b[0;34m\u001b[0m\u001b[0;34m\u001b[0m\u001b[0m\n\u001b[0m\u001b[1;32m      3\u001b[0m \u001b[0mprint\u001b[0m \u001b[0;34m(\u001b[0m\u001b[0ma\u001b[0m\u001b[0;34m)\u001b[0m \u001b[0;31m# Immutable like strings\u001b[0m\u001b[0;34m\u001b[0m\u001b[0;34m\u001b[0m\u001b[0m\n",
            "\u001b[0;31mTypeError\u001b[0m: 'tuple' object does not support item assignment"
          ]
        }
      ],
      "source": [
        "a=(33,37.5,'hello')\n",
        "a[0]=35\n",
        "print (a) # Immutable like strings"
      ]
    },
    {
      "cell_type": "code",
      "execution_count": 87,
      "metadata": {
        "colab": {
          "base_uri": "https://localhost:8080/"
        },
        "id": "BgphXQvi0rm6",
        "outputId": "b201c429-4493-42c7-8f3f-d72f663a1aba"
      },
      "outputs": [
        {
          "name": "stdout",
          "output_type": "stream",
          "text": [
            "(33, 37.5, 'hello')\n",
            "(1, 2, 3)\n"
          ]
        }
      ],
      "source": [
        "a=(33,37.5,'hello')\n",
        "print (a)\n",
        "a=(1,2,3)\n",
        "print(a)"
      ]
    },
    {
      "cell_type": "code",
      "execution_count": 88,
      "metadata": {
        "colab": {
          "base_uri": "https://localhost:8080/"
        },
        "id": "Z0KXQLkC03Fz",
        "outputId": "b81d0440-a00a-403a-9403-328db0229e62"
      },
      "outputs": [
        {
          "name": "stdout",
          "output_type": "stream",
          "text": [
            "('hello', 37.5, 33)\n"
          ]
        }
      ],
      "source": [
        "a=(33,37.5,'hello')\n",
        "print(a[::-1])"
      ]
    },
    {
      "cell_type": "code",
      "execution_count": 89,
      "metadata": {
        "colab": {
          "base_uri": "https://localhost:8080/"
        },
        "id": "RdYbcuI11UWM",
        "outputId": "9b94f957-9ad5-4099-9701-59c0dc1e93d8"
      },
      "outputs": [
        {
          "name": "stdout",
          "output_type": "stream",
          "text": [
            "<class 'dict'>\n"
          ]
        }
      ],
      "source": [
        "a={1:'madhu',2:'madhu'}\n",
        "# keys - 1,2\n",
        "# values - hello,madhu\n",
        "print(type(a))"
      ]
    },
    {
      "cell_type": "code",
      "execution_count": 90,
      "metadata": {
        "colab": {
          "base_uri": "https://localhost:8080/"
        },
        "id": "x7C75eaV1ogN",
        "outputId": "fad03c03-ffeb-497b-a810-d84d2c16bc66"
      },
      "outputs": [
        {
          "name": "stdout",
          "output_type": "stream",
          "text": [
            "hello\n"
          ]
        }
      ],
      "source": [
        "a={1:'hello'}\n",
        "print(a[1])"
      ]
    },
    {
      "cell_type": "code",
      "execution_count": 91,
      "metadata": {
        "colab": {
          "base_uri": "https://localhost:8080/"
        },
        "id": "-P7XuT091y17",
        "outputId": "470c4870-a7bc-4ebe-b450-cd25f1dbd138"
      },
      "outputs": [
        {
          "name": "stdout",
          "output_type": "stream",
          "text": [
            "{1: 'madhu'}\n"
          ]
        }
      ],
      "source": [
        "a={1:'hello',1:'madhu'}\n",
        "print (a)"
      ]
    },
    {
      "cell_type": "code",
      "execution_count": null,
      "metadata": {
        "id": "vbSCTagG2ArF"
      },
      "outputs": [],
      "source": [
        "a={'abc':'hello',1:'hello'}\n",
        "# keys - abc,1\n",
        "# values - hello, hello\n",
        "print (a)"
      ]
    },
    {
      "cell_type": "code",
      "execution_count": 92,
      "metadata": {
        "colab": {
          "base_uri": "https://localhost:8080/"
        },
        "id": "KJ_ykFhu2PUt",
        "outputId": "f28e733c-ca22-4f5e-8362-8ba5aa8b7eee"
      },
      "outputs": [
        {
          "name": "stdout",
          "output_type": "stream",
          "text": [
            "{1: 'hello', 2: 'hi'}\n"
          ]
        }
      ],
      "source": [
        "a={1:'hello'} # dictionary\n",
        "a[2]='hi' # a[2]='hi' 2 - key, hi - value\n",
        "print (a)\n",
        "\n",
        "#a[new_key]=value\n"
      ]
    },
    {
      "cell_type": "code",
      "execution_count": 93,
      "metadata": {
        "colab": {
          "base_uri": "https://localhost:8080/"
        },
        "id": "igbB1MjK2yJM",
        "outputId": "01f8f798-187b-4b52-caa2-46f33c9050fe"
      },
      "outputs": [
        {
          "name": "stdout",
          "output_type": "stream",
          "text": [
            "<class 'bool'>\n"
          ]
        }
      ],
      "source": [
        "a=False\n",
        "print(type(a))"
      ]
    },
    {
      "cell_type": "code",
      "execution_count": null,
      "metadata": {
        "id": "URj-kEW62-Nn"
      },
      "outputs": [],
      "source": [
        "a={1:'hello','abc':'hello'}\n",
        "print (a) # same values, but keys should be unique"
      ]
    },
    {
      "cell_type": "code",
      "execution_count": 94,
      "metadata": {
        "colab": {
          "base_uri": "https://localhost:8080/"
        },
        "id": "mGe_-2BU3IxT",
        "outputId": "e623abe6-b958-4189-9de0-869bfa8115b8"
      },
      "outputs": [
        {
          "name": "stdout",
          "output_type": "stream",
          "text": [
            "<class 'set'>\n"
          ]
        }
      ],
      "source": [
        "a={'hello','hello'} # values are duplicated\n",
        "print(type(a))"
      ]
    },
    {
      "cell_type": "code",
      "execution_count": 95,
      "metadata": {
        "colab": {
          "base_uri": "https://localhost:8080/"
        },
        "id": "RJN_7Q-D3YEY",
        "outputId": "0e8f7e6a-29c8-4379-85d6-78bd031ef2b5"
      },
      "outputs": [
        {
          "name": "stdout",
          "output_type": "stream",
          "text": [
            "{'hello'}\n"
          ]
        }
      ],
      "source": [
        "a={'hello','hello'} # values are duplicated\n",
        "print(a) # In sets, values are not duplicated"
      ]
    },
    {
      "cell_type": "code",
      "execution_count": 96,
      "metadata": {
        "colab": {
          "base_uri": "https://localhost:8080/"
        },
        "id": "XzqZJgnB3k9n",
        "outputId": "dd3d8ace-97bf-4375-b7f7-80c5d0f0900c"
      },
      "outputs": [
        {
          "name": "stdout",
          "output_type": "stream",
          "text": [
            "{'hello', 'apple'}\n"
          ]
        }
      ],
      "source": [
        "a={'apple','hello'} # unordered\n",
        "print (a)\n",
        "\n",
        "# list,tuple,string - ordered type - index access\n",
        "# set - unordered type "
      ]
    },
    {
      "cell_type": "code",
      "execution_count": 97,
      "metadata": {
        "colab": {
          "base_uri": "https://localhost:8080/"
        },
        "id": "dqcjc3oq4Kn6",
        "outputId": "d7168ec0-6601-4d9a-c629-50eeae18e0d4"
      },
      "outputs": [
        {
          "name": "stdout",
          "output_type": "stream",
          "text": [
            "{20, 'hello', 'apple'}\n"
          ]
        }
      ],
      "source": [
        "a={'apple','hello'}\n",
        "a.add(20)\n",
        "print (a)"
      ]
    },
    {
      "cell_type": "code",
      "execution_count": 98,
      "metadata": {
        "colab": {
          "base_uri": "https://localhost:8080/"
        },
        "id": "pTOzWMy44dMh",
        "outputId": "d48421ba-2633-4103-a611-effc52bddd0e"
      },
      "outputs": [
        {
          "name": "stdout",
          "output_type": "stream",
          "text": [
            "range(1, 6)\n"
          ]
        }
      ],
      "source": [
        "a=range(1,6) # start, stop [1,2,3,4,5]\n",
        "print (a)"
      ]
    },
    {
      "cell_type": "code",
      "execution_count": 99,
      "metadata": {
        "colab": {
          "base_uri": "https://localhost:8080/"
        },
        "id": "fuTRSMEm4whI",
        "outputId": "d14c5698-bec2-4012-c60d-d5e490acff23"
      },
      "outputs": [
        {
          "name": "stdout",
          "output_type": "stream",
          "text": [
            "<class 'range'>\n"
          ]
        }
      ],
      "source": [
        "a=range(1,6) # start, stop [1,2,3,4,5]\n",
        "print (type(a))"
      ]
    },
    {
      "cell_type": "code",
      "execution_count": null,
      "metadata": {
        "id": "U3GzKqVH415j"
      },
      "outputs": [],
      "source": [
        "a=range(6) # start - 0 -> [0,1,2,3,4,5]\n",
        "print (a)"
      ]
    },
    {
      "cell_type": "code",
      "execution_count": null,
      "metadata": {
        "id": "GWr4A6__5GEF"
      },
      "outputs": [],
      "source": [
        "a='hello'\n",
        "print(a) # str"
      ]
    },
    {
      "cell_type": "code",
      "execution_count": 100,
      "metadata": {
        "colab": {
          "base_uri": "https://localhost:8080/"
        },
        "id": "9yz14I7t5OhD",
        "outputId": "e9f8a46e-0618-4056-8a8d-a2e50a8fe0fc"
      },
      "outputs": [
        {
          "name": "stdout",
          "output_type": "stream",
          "text": [
            "b'hello'\n",
            "h 104 <class 'str'> <class 'bytes'>\n"
          ]
        }
      ],
      "source": [
        "# bytes -> encode/decode string values\n",
        "a='hello'\n",
        "b=a.encode('utf-8') # b - bytes datatype\n",
        "print (b)\n",
        "print (a[0],b[0],type(a),type(b))"
      ]
    },
    {
      "cell_type": "code",
      "execution_count": 101,
      "metadata": {
        "colab": {
          "base_uri": "https://localhost:8080/"
        },
        "id": "xECqx-yF5wSg",
        "outputId": "56444b41-d53e-443f-a36b-899a532e909b"
      },
      "outputs": [
        {
          "name": "stdout",
          "output_type": "stream",
          "text": [
            "hello <class 'str'>\n",
            "b'hello' <class 'bytes'>\n",
            "hello <class 'str'>\n"
          ]
        }
      ],
      "source": [
        "a='hello'\n",
        "b=a.encode('utf-8') # bytes datatype of a\n",
        "c=b.decode('utf-8') # str\n",
        "print (a, type(a))\n",
        "print (b, type(b))\n",
        "print (c, type(c))"
      ]
    },
    {
      "cell_type": "code",
      "execution_count": null,
      "metadata": {
        "id": "jEBNoU3h7lWW"
      },
      "outputs": [],
      "source": [
        "s='mad\\\\\"blocks'\n",
        "print (s)"
      ]
    },
    {
      "cell_type": "code",
      "execution_count": null,
      "metadata": {
        "id": "tzlSzemSgIO9"
      },
      "outputs": [],
      "source": [
        "# Arthimetical Operators\n",
        "a=33\n",
        "b=37.5\n",
        "print(a+b)"
      ]
    },
    {
      "cell_type": "code",
      "execution_count": null,
      "metadata": {
        "id": "1cPjvO1_gV8q"
      },
      "outputs": [],
      "source": [
        "# Arithmetical Operators\n",
        "a=33\n",
        "b=37.5\n",
        "print(a-b)"
      ]
    },
    {
      "cell_type": "code",
      "execution_count": null,
      "metadata": {
        "id": "5ZeOR9VoghcX"
      },
      "outputs": [],
      "source": [
        "# Arithmetical Opreators\n",
        "a=33\n",
        "b=2\n",
        "print(a*b)"
      ]
    },
    {
      "cell_type": "code",
      "execution_count": null,
      "metadata": {
        "id": "PEAPNw4MgoLJ"
      },
      "outputs": [],
      "source": [
        "# Arithmetical Operators\n",
        "a=32 # int\n",
        "b=2 # int\n",
        "print(a/b) #float"
      ]
    },
    {
      "cell_type": "code",
      "execution_count": null,
      "metadata": {
        "id": "ilztJ-J5g2OE"
      },
      "outputs": [],
      "source": [
        "# Arithmetical Operators\n",
        "a=32 \n",
        "b=2\n",
        "print(a%b) # remainder"
      ]
    },
    {
      "cell_type": "code",
      "execution_count": 104,
      "metadata": {
        "colab": {
          "base_uri": "https://localhost:8080/"
        },
        "id": "dEq7c8KPhAxp",
        "outputId": "b05b08f4-05e8-4f19-d17c-65876e80a1bc"
      },
      "outputs": [
        {
          "name": "stdout",
          "output_type": "stream",
          "text": [
            "3\n"
          ]
        }
      ],
      "source": [
        "a=-9\n",
        "b=4\n",
        "print(a%b) # -5%2 -> -5 = (1-6)%2 = 1%2 - 6%2 = 1 - 0 = 1\n",
        "\n",
        "# %, math.fmod() -> -1 when you have negative numbers you have to do like this"
      ]
    },
    {
      "cell_type": "code",
      "execution_count": 102,
      "metadata": {
        "colab": {
          "base_uri": "https://localhost:8080/"
        },
        "id": "H1aMXKmi8WZi",
        "outputId": "90eaac48-a4db-451b-feee-30a9f19b7868"
      },
      "outputs": [
        {
          "data": {
            "text/plain": [
              "3.0"
            ]
          },
          "execution_count": 102,
          "metadata": {},
          "output_type": "execute_result"
        }
      ],
      "source": [
        "6/2"
      ]
    },
    {
      "cell_type": "code",
      "execution_count": 105,
      "metadata": {
        "colab": {
          "base_uri": "https://localhost:8080/"
        },
        "id": "Jj0NB4UCiMvC",
        "outputId": "337edd7c-5f26-4eb8-b228-93a89c88e85b"
      },
      "outputs": [
        {
          "name": "stdout",
          "output_type": "stream",
          "text": [
            "1\n"
          ]
        }
      ],
      "source": [
        "a=-2000 # (7-2007)%3 = 7%3 - 2007%3 = 1 - 0 = 1\n",
        "b=3\n",
        "print(a%b) # -> -2000 = (1-2001)%3 = 1%3 - 2001%3 = 1 - 0 = 1"
      ]
    },
    {
      "cell_type": "code",
      "execution_count": 106,
      "metadata": {
        "colab": {
          "base_uri": "https://localhost:8080/"
        },
        "id": "7d-kx82Yjhoj",
        "outputId": "fb73e59d-3e07-476c-93af-a344f87ffc91"
      },
      "outputs": [
        {
          "name": "stdout",
          "output_type": "stream",
          "text": [
            "1\n"
          ]
        }
      ],
      "source": [
        "a=-242 # 1-243\n",
        "b=3 # 243%3 = 0\n",
        "print(a%b)"
      ]
    },
    {
      "cell_type": "code",
      "execution_count": null,
      "metadata": {
        "id": "yWSfntCzkWrV"
      },
      "outputs": [],
      "source": [
        "# Arithmetical Operator\n",
        "a=2\n",
        "b=3 \n",
        "print(a**b) # Exponent (2**3) = 2^3 = 8"
      ]
    },
    {
      "cell_type": "code",
      "execution_count": null,
      "metadata": {
        "id": "nQm_vtNBkyWZ"
      },
      "outputs": [],
      "source": [
        "# Arithmetical Operator\n",
        "a=2\n",
        "b=3 # 2/3 = 0.33333 = 0 \n",
        "print(a//b) # floor division operator"
      ]
    },
    {
      "cell_type": "code",
      "execution_count": null,
      "metadata": {
        "id": "duLsp_6ZlISQ"
      },
      "outputs": [],
      "source": [
        "a=4E7 #(4*10^7)\n",
        "print (a)\n",
        "a=4**7 #(4^7)\n",
        "print (a)"
      ]
    },
    {
      "cell_type": "code",
      "execution_count": null,
      "metadata": {
        "id": "Tmht3XDllX08"
      },
      "outputs": [],
      "source": [
        "a=25\n",
        "b=3\n",
        "print(a//b) # Quotient, perform rounding near towards zero\n",
        "# 25/3 = 8.3333 (8, 9)"
      ]
    },
    {
      "cell_type": "code",
      "execution_count": 108,
      "metadata": {
        "colab": {
          "base_uri": "https://localhost:8080/"
        },
        "id": "AkZguPkclsQK",
        "outputId": "3b7aebcd-6c90-4a90-8f14-b7d6cee3b772"
      },
      "outputs": [
        {
          "name": "stdout",
          "output_type": "stream",
          "text": [
            "-9\n"
          ]
        }
      ],
      "source": [
        "a=-25\n",
        "b=3\n",
        "print(a//b) # -25/3 = -8.333 (-8, -9)\n",
        "# Note - When you have a negative number, you have to\n",
        "  # perform rounding away from zero "
      ]
    },
    {
      "cell_type": "code",
      "execution_count": 109,
      "metadata": {
        "colab": {
          "base_uri": "https://localhost:8080/"
        },
        "id": "VeGAUXTumcjW",
        "outputId": "46f88fc2-14df-4f6c-a4f7-1538010fa00a"
      },
      "outputs": [
        {
          "name": "stdout",
          "output_type": "stream",
          "text": [
            "-114\n"
          ]
        }
      ],
      "source": [
        "a=-341\n",
        "b=3\n",
        "print(a//b) # (-341/3 = -113.)"
      ]
    },
    {
      "cell_type": "code",
      "execution_count": null,
      "metadata": {
        "id": "Ft27Y6wPnKVN"
      },
      "outputs": [],
      "source": [
        "# Comparision Operators\n",
        "a=33\n",
        "b=33\n",
        "c=2\n",
        "print(a==b) # the values will be compared\n",
        "print(a==c)"
      ]
    },
    {
      "cell_type": "code",
      "execution_count": null,
      "metadata": {
        "id": "oLB8l2IknjHL"
      },
      "outputs": [],
      "source": [
        "# Comparision Operator\n",
        "a=33\n",
        "b=33\n",
        "c=2\n",
        "print(a!=b) # 33!=33 - False \n",
        "print(a!=c) # 33!=2 - True"
      ]
    },
    {
      "cell_type": "code",
      "execution_count": null,
      "metadata": {
        "id": "TAvA7vnOnzx3"
      },
      "outputs": [],
      "source": [
        "# Comparision Operator\n",
        "a=33\n",
        "b=2\n",
        "print(a>b) # 33>2 "
      ]
    },
    {
      "cell_type": "code",
      "execution_count": null,
      "metadata": {
        "id": "u96uL7nnoBm0"
      },
      "outputs": [],
      "source": [
        "# Comparision Operator\n",
        "a=33\n",
        "b=33\n",
        "print(a>=b) # True"
      ]
    },
    {
      "cell_type": "code",
      "execution_count": null,
      "metadata": {
        "id": "juVBsPRioKMl"
      },
      "outputs": [],
      "source": [
        "# Comparsion Operator\n",
        "a=33\n",
        "b=2\n",
        "print(a<b) # 33<2 -> False"
      ]
    },
    {
      "cell_type": "code",
      "execution_count": null,
      "metadata": {
        "id": "SaO1xdcYoQvU"
      },
      "outputs": [],
      "source": [
        "# Comparision Operator\n",
        "a=33\n",
        "b=2\n",
        "print(a<=b) # 33<=2 -> False"
      ]
    },
    {
      "cell_type": "code",
      "execution_count": null,
      "metadata": {
        "id": "uZfMZX8fooPe"
      },
      "outputs": [],
      "source": [
        "# Assignment Operators\n",
        "\n",
        "a=3\n",
        "b=2\n",
        "a+=b # a=a+b (3+2)\n",
        "print (a)"
      ]
    },
    {
      "cell_type": "code",
      "execution_count": null,
      "metadata": {
        "id": "dpV8_Ru_o21B"
      },
      "outputs": [],
      "source": [
        "# Assignment Operators\n",
        "a=3\n",
        "b=2\n",
        "a-=b # a=a-b -> 3-2\n",
        "print (a)"
      ]
    },
    {
      "cell_type": "code",
      "execution_count": null,
      "metadata": {
        "id": "etBlRffHpCnG"
      },
      "outputs": [],
      "source": [
        "# Assignment Operators\n",
        "a=3\n",
        "b=2\n",
        "a*=b # a=a*b -> 3*2\n",
        "print (a)"
      ]
    },
    {
      "cell_type": "code",
      "execution_count": null,
      "metadata": {
        "id": "kS-vtZcLpKPI"
      },
      "outputs": [],
      "source": [
        "# Assignment Operators\n",
        "a=3\n",
        "b=2\n",
        "a/=b # a=a/b -> 3/2\n",
        "print (a)"
      ]
    },
    {
      "cell_type": "code",
      "execution_count": null,
      "metadata": {
        "id": "nmcldfH-pY3s"
      },
      "outputs": [],
      "source": [
        "# Assignment Operators\n",
        "a=3\n",
        "b=2\n",
        "a%=b # -> a=a%b -> 3%2\n",
        "print (a)"
      ]
    },
    {
      "cell_type": "code",
      "execution_count": null,
      "metadata": {
        "id": "jIcA_RVvpipG"
      },
      "outputs": [],
      "source": [
        "# Assignment Operators\n",
        "a=3\n",
        "b=2\n",
        "a//=b # -> a=a//b\n",
        "print (a)"
      ]
    },
    {
      "cell_type": "code",
      "execution_count": null,
      "metadata": {
        "id": "i_qRaELwpsZe"
      },
      "outputs": [],
      "source": [
        "# Assignment Operators\n",
        "a=3\n",
        "b=2\n",
        "a**=b # a=a**b = 3**2 = 9\n",
        "print (a)"
      ]
    },
    {
      "cell_type": "code",
      "execution_count": 110,
      "metadata": {
        "colab": {
          "base_uri": "https://localhost:8080/"
        },
        "id": "s5mcyVRhqKd9",
        "outputId": "4c36892e-3d4e-439a-bb8c-e913ede2d434"
      },
      "outputs": [
        {
          "name": "stdout",
          "output_type": "stream",
          "text": [
            "2\n"
          ]
        }
      ],
      "source": [
        "# Bitwise Operators\n",
        "a=3 # 0 0 1 1\n",
        "b=2 # 0 0 1 0\n",
        "#     0 0 1 0 -> 2\n",
        "print(a&b) "
      ]
    },
    {
      "cell_type": "code",
      "execution_count": 111,
      "metadata": {
        "colab": {
          "base_uri": "https://localhost:8080/"
        },
        "id": "u12VIT-gqmkD",
        "outputId": "6d33a77b-1996-4c99-eb7e-7e89a6ca4e2a"
      },
      "outputs": [
        {
          "name": "stdout",
          "output_type": "stream",
          "text": [
            "3\n"
          ]
        }
      ],
      "source": [
        "# Bitwise Operators\n",
        "a=3 # 0 0 1 1\n",
        "b=2 # 0 0 1 0\n",
        "#     0 0 1 1 -> 3\n",
        "print(a|b)"
      ]
    },
    {
      "cell_type": "code",
      "execution_count": null,
      "metadata": {
        "id": "JnhVJ2Cdq3Sa"
      },
      "outputs": [],
      "source": [
        "# Bitwise Operators\n",
        "a=3 # 0 0 1 1\n",
        "b=2 # 0 0 1 0\n",
        "#     0 0 0 1 -> 1\n",
        "print(a^b) # Bitwise XOR "
      ]
    },
    {
      "cell_type": "code",
      "execution_count": null,
      "metadata": {
        "id": "jVGz8APXrQ8B"
      },
      "outputs": [],
      "source": [
        "# Bitwise Operators\n",
        "a=5\n",
        "print(~a) # -(a+1) -> -(5+1) = -6"
      ]
    },
    {
      "cell_type": "code",
      "execution_count": null,
      "metadata": {
        "id": "EL6sx_wsrlFA"
      },
      "outputs": [],
      "source": [
        "# Bitwise Operators\n",
        "a=4\n",
        "print(a<<1) # Bitwise Left Shift \n",
        "# the value 4 should be shifted towards leftside for one time\n",
        "# answer is you have to double the value"
      ]
    },
    {
      "cell_type": "code",
      "execution_count": null,
      "metadata": {
        "id": "d3tx5bbCr857"
      },
      "outputs": [],
      "source": [
        "# Bitwise Operators\n",
        "a=24\n",
        "print(a>>1) # Bitwise Right Shift\n",
        "# the value 24 should be shifted towards rightside for one time\n",
        "# the answer is half of the given value"
      ]
    },
    {
      "cell_type": "code",
      "execution_count": null,
      "metadata": {
        "id": "qlnCT7P7sWXQ"
      },
      "outputs": [],
      "source": [
        "# Logical Operators\n",
        "a=33\n",
        "b=5\n",
        "c=2\n",
        "print (a>b and a>c) # 33>5 (T) and 33>2 (T)\n",
        "# T and T - T\n",
        "# F and T - F\n",
        "# T and F - F\n",
        "# F and F - F"
      ]
    },
    {
      "cell_type": "code",
      "execution_count": null,
      "metadata": {
        "id": "7Ngq2efoszRk"
      },
      "outputs": [],
      "source": [
        "# Logical Operators\n",
        "a=33\n",
        "b=5\n",
        "c=2\n",
        "print (a>b or b<c) # 33>5 (T) or 5<2 (F)\n",
        "# T or T - T\n",
        "# T or F - T\n",
        "# F or T - T\n",
        "# F or F - F"
      ]
    },
    {
      "cell_type": "code",
      "execution_count": null,
      "metadata": {
        "id": "nojux53KtGwD"
      },
      "outputs": [],
      "source": [
        "# Logical Operators\n",
        "a=True\n",
        "print(not a)"
      ]
    },
    {
      "cell_type": "code",
      "execution_count": 112,
      "metadata": {
        "colab": {
          "base_uri": "https://localhost:8080/"
        },
        "id": "ORUL3qSqtZKj",
        "outputId": "376d6515-6828-4288-bd1b-1d955e4b52fe"
      },
      "outputs": [
        {
          "name": "stdout",
          "output_type": "stream",
          "text": [
            "True\n"
          ]
        }
      ],
      "source": [
        "# Membership Operators\n",
        "# 1. in\n",
        "a=[23,'hello'] # Sequence Type - List, Tuple, range\n",
        "b=23\n",
        "print(b in a) # whether b is a member of a or not\n",
        "# Member - True (23)\n",
        "# Non Member - False (33)"
      ]
    },
    {
      "cell_type": "code",
      "execution_count": 113,
      "metadata": {
        "colab": {
          "base_uri": "https://localhost:8080/"
        },
        "id": "fL-LaPSUuFhu",
        "outputId": "37bd2784-4614-4908-8e43-f1b6e2ad9a2c"
      },
      "outputs": [
        {
          "name": "stdout",
          "output_type": "stream",
          "text": [
            "True\n"
          ]
        }
      ],
      "source": [
        "# Membership Operators\n",
        "# 2. not in\n",
        "a=[23,'hello']\n",
        "b=33\n",
        "print(b not in a) # b is not a member of a\n",
        "\n",
        "# Member - False (23)\n",
        "# Non Member - True (33)"
      ]
    },
    {
      "cell_type": "code",
      "execution_count": 114,
      "metadata": {
        "colab": {
          "base_uri": "https://localhost:8080/",
          "height": 132
        },
        "id": "j1vQXHHfuevr",
        "outputId": "6b1111d7-30b4-43e2-b573-61a6e48fa30b"
      },
      "outputs": [
        {
          "ename": "SyntaxError",
          "evalue": "ignored",
          "output_type": "error",
          "traceback": [
            "\u001b[0;36m  File \u001b[0;32m\"<ipython-input-114-1adfb41dfe59>\"\u001b[0;36m, line \u001b[0;32m3\u001b[0m\n\u001b[0;31m    print(b in not a) # in not -> not in\u001b[0m\n\u001b[0m                 ^\u001b[0m\n\u001b[0;31mSyntaxError\u001b[0m\u001b[0;31m:\u001b[0m invalid syntax\n"
          ]
        }
      ],
      "source": [
        "a=[1,2,3]\n",
        "b=5\n",
        "print(b in not a) # in not -> not in"
      ]
    },
    {
      "cell_type": "code",
      "execution_count": 115,
      "metadata": {
        "colab": {
          "base_uri": "https://localhost:8080/"
        },
        "id": "n0lx70wavL85",
        "outputId": "00e871d0-f020-4473-f986-3fa55aa737e9"
      },
      "outputs": [
        {
          "name": "stdout",
          "output_type": "stream",
          "text": [
            "True\n",
            "True\n"
          ]
        }
      ],
      "source": [
        "# identity operator\n",
        "# 1. is\n",
        "a=10 # int 1000\n",
        "b=10 # int 1000\n",
        "print (a is b) # address comes into place\n",
        "print (a==b) # values comes into place\n",
        "#Note: When integer values are same, both the variables\n",
        "# are pointing the same address\n"
      ]
    },
    {
      "cell_type": "code",
      "execution_count": 116,
      "metadata": {
        "colab": {
          "base_uri": "https://localhost:8080/"
        },
        "id": "v5VHiYVLv1vb",
        "outputId": "64939532-a0b5-49b9-e22e-9dddebf8d064"
      },
      "outputs": [
        {
          "name": "stdout",
          "output_type": "stream",
          "text": [
            "False\n",
            "True\n"
          ]
        }
      ],
      "source": [
        "a=10.5 # float 1000\n",
        "b=10.5 # float 2000\n",
        "print(a is b) # addresses\n",
        "print(a==b) # values\n",
        "#Note: Though floating point values are same, but the variables\n",
        "# will have seperate addresses"
      ]
    },
    {
      "cell_type": "code",
      "execution_count": 117,
      "metadata": {
        "colab": {
          "base_uri": "https://localhost:8080/"
        },
        "id": "08xzeoaIwaBC",
        "outputId": "e8f8b4b5-9065-4ed3-ba5a-6559c7c9ff61"
      },
      "outputs": [
        {
          "name": "stdout",
          "output_type": "stream",
          "text": [
            "True\n",
            "True\n"
          ]
        }
      ],
      "source": [
        "a='hi'\n",
        "b='hi'\n",
        "print(a is b)\n",
        "print(a==b)"
      ]
    },
    {
      "cell_type": "code",
      "execution_count": 118,
      "metadata": {
        "colab": {
          "base_uri": "https://localhost:8080/"
        },
        "id": "b2YkiSaZwqkw",
        "outputId": "5937b49d-68c5-43a6-b85f-db7d3850518e"
      },
      "outputs": [
        {
          "name": "stdout",
          "output_type": "stream",
          "text": [
            "True\n",
            "True\n"
          ]
        }
      ],
      "source": [
        "a=[1,2,3,4,5]\n",
        "b=a # variables a,b are pointing to the same address\n",
        "print(a is b) # they should point to the same address\n",
        "print(a==b) # they should have same values"
      ]
    },
    {
      "cell_type": "code",
      "execution_count": 119,
      "metadata": {
        "colab": {
          "base_uri": "https://localhost:8080/"
        },
        "id": "1vdG4ioIxDGn",
        "outputId": "3b722874-b9d3-418c-c93e-69c0c2bf126e"
      },
      "outputs": [
        {
          "name": "stdout",
          "output_type": "stream",
          "text": [
            "False\n",
            "True\n"
          ]
        }
      ],
      "source": [
        "a=[1,2,3,4,5]\n",
        "b=list(a) # a - 1000, b - 2000 values will be copied but not addr\n",
        "print(a is b)\n",
        "print(a==b)"
      ]
    },
    {
      "cell_type": "code",
      "execution_count": 120,
      "metadata": {
        "colab": {
          "base_uri": "https://localhost:8080/"
        },
        "id": "TCU_T5Urxhr2",
        "outputId": "2ebac6bf-04ae-4b9b-910d-4decef589776"
      },
      "outputs": [
        {
          "name": "stdout",
          "output_type": "stream",
          "text": [
            "True\n",
            "False\n"
          ]
        }
      ],
      "source": [
        "# identity operator\n",
        "a=20\n",
        "b=20\n",
        "print(a is b)\n",
        "print(a is not b) # address are not same - true"
      ]
    },
    {
      "cell_type": "code",
      "execution_count": 121,
      "metadata": {
        "colab": {
          "base_uri": "https://localhost:8080/",
          "height": 132
        },
        "id": "Uym5cTStxyeR",
        "outputId": "e6c1d9a4-cd33-49c1-ba47-1a077450a469"
      },
      "outputs": [
        {
          "ename": "SyntaxError",
          "evalue": "ignored",
          "output_type": "error",
          "traceback": [
            "\u001b[0;36m  File \u001b[0;32m\"<ipython-input-121-5a1106cd0f69>\"\u001b[0;36m, line \u001b[0;32m3\u001b[0m\n\u001b[0;31m    print(a not is b) # there is no such operator\u001b[0m\n\u001b[0m                 ^\u001b[0m\n\u001b[0;31mSyntaxError\u001b[0m\u001b[0;31m:\u001b[0m invalid syntax\n"
          ]
        }
      ],
      "source": [
        "a=10.5\n",
        "b=10.5\n",
        "print(a not is b) # there is no such operator"
      ]
    },
    {
      "cell_type": "code",
      "execution_count": 123,
      "metadata": {
        "colab": {
          "base_uri": "https://localhost:8080/"
        },
        "id": "dFatRexsmvtC",
        "outputId": "6faa1406-77ee-44a5-a98c-b094e0b36de0"
      },
      "outputs": [
        {
          "name": "stdout",
          "output_type": "stream",
          "text": [
            "hello madBlocks\n"
          ]
        }
      ],
      "source": [
        "a = 13\n",
        "rem = a%2 # rem = 1\n",
        "if(rem == 0): # conditinal statement\n",
        "  print(\"Given number is even\") #B1\n",
        "  print(\"Hello\") #B2\n",
        "print(\"hello madBlocks\") #not a branching statement"
      ]
    },
    {
      "cell_type": "code",
      "execution_count": null,
      "metadata": {
        "id": "GWaD9QAjrHOL"
      },
      "outputs": [],
      "source": [
        "#if--else-------\n",
        "a = int(input(\"enter a number : \"))\n",
        "if(a%2 == 0): #11%2 = 1\n",
        "  print(\"Given number is \",a) #braching statement for if\n",
        "  print(\"it is an even number\")\n",
        "else:\n",
        "  print(\"Given number is \",a) #braching statement for else\n",
        "  print(\"it is an odd number\")\n",
        "  print(\"hello madBlocks\")"
      ]
    },
    {
      "cell_type": "code",
      "execution_count": null,
      "metadata": {
        "id": "BdRp6e7vw9oO"
      },
      "outputs": [],
      "source": [
        "x = 30\n",
        "y = 20\n",
        "z = 23\n",
        "w = 25\n",
        "\n",
        "if(x > y and x > z and x > w): # 12 > 20(F) and 12 > 23(F) -> F\n",
        "  print(\"X is greater\")\n",
        "elif(y > x and y > z and y > w): # 20 > 12(T) and 20 > 23(F) -> F\n",
        "  print(\"Y is greater\")\n",
        "elif(z > x and z > y and z > w): # 23 > 12(T) and 23 > 20(T) -> T\n",
        "  print(\"Z is greater\")\n",
        "else:\n",
        "  print(\"w is greater\")\n",
        "\n"
      ]
    },
    {
      "cell_type": "code",
      "execution_count": null,
      "metadata": {
        "id": "ME_ObjkH3WcR"
      },
      "outputs": [],
      "source": [
        "# 1 2 3 4 5\n",
        "a = 1\n",
        "while(a <= 5): # conditional statement 1,2,3,------8,9,10 < 10(F)\n",
        "  print(a) #BS1 1,2,3-----8,9\n",
        "  a = a+1  #BS2 a = 2,3------9,10"
      ]
    },
    {
      "cell_type": "code",
      "execution_count": 124,
      "metadata": {
        "colab": {
          "base_uri": "https://localhost:8080/"
        },
        "id": "zfnMtee87D6S",
        "outputId": "2d5920f6-d4ad-4f40-9d09-37acdf40bcc3"
      },
      "outputs": [
        {
          "name": "stdout",
          "output_type": "stream",
          "text": [
            "1\n",
            "hello madBlocks\n",
            "(3+4j)\n"
          ]
        }
      ],
      "source": [
        "l = [1,\"hello madBlocks\",3+4j]\n",
        "for i in l: #CS\n",
        "  print(i) #BS"
      ]
    },
    {
      "cell_type": "code",
      "execution_count": null,
      "metadata": {
        "id": "t1nCnCwo8aH7"
      },
      "outputs": [],
      "source": [
        "l = [1,\"hello madBloacks\",3+4j]\n",
        "for i in range(0,3): #i = 0,1,2-----6,7\n",
        "  print(l[i]) # l[0],l[1],l[2]-----l[6]"
      ]
    },
    {
      "cell_type": "code",
      "execution_count": null,
      "metadata": {
        "id": "FKSEmdip-kJa"
      },
      "outputs": [],
      "source": [
        "#1 to 9\n",
        "for i in range(1,10,5): #i = 1,6,11\n",
        "  print(i) #1,6"
      ]
    },
    {
      "cell_type": "code",
      "execution_count": 125,
      "metadata": {
        "colab": {
          "base_uri": "https://localhost:8080/"
        },
        "id": "b3UlBgSIAgC9",
        "outputId": "6a6551ff-55b9-4995-f3da-698bc00e50ec"
      },
      "outputs": [
        {
          "name": "stdout",
          "output_type": "stream",
          "text": [
            "1\n",
            "2\n",
            "3\n",
            "4\n",
            "5\n",
            "6\n",
            "7\n",
            "8\n",
            "9\n",
            "10\n",
            "while statement is ended\n"
          ]
        }
      ],
      "source": [
        "a = 1\n",
        "while(a <= 10): #a = 1,2,3,4,5,6\n",
        "  print(a) #BS1\n",
        "  a = a+1 #BS2\n",
        "else:\n",
        "  print(\"while statement is ended\") #BS1 for else"
      ]
    },
    {
      "cell_type": "code",
      "execution_count": 126,
      "metadata": {
        "colab": {
          "base_uri": "https://localhost:8080/"
        },
        "id": "YSYTFHGkCDPL",
        "outputId": "5874792c-9102-40dd-dc46-360403993889"
      },
      "outputs": [
        {
          "name": "stdout",
          "output_type": "stream",
          "text": [
            "1\n",
            "hello madBlocks\n",
            "(3+4j)\n",
            "for statement is ended\n"
          ]
        }
      ],
      "source": [
        "for i in [1,\"hello madBlocks\",3+4j]:\n",
        "  print(i)\n",
        "else:\n",
        "  print(\"for statement is ended\")"
      ]
    },
    {
      "cell_type": "code",
      "execution_count": null,
      "metadata": {
        "id": "kUAp8hGPCvD_"
      },
      "outputs": [],
      "source": [
        "a = 1\n",
        "iv = 3.2\n",
        "for i in range(1,20): #i = 1,2,3,4,5\n",
        "  print(a)\n",
        "  a = a+iv #2,2.5,3"
      ]
    },
    {
      "cell_type": "code",
      "execution_count": null,
      "metadata": {
        "id": "H5AMIRH7Ejvs"
      },
      "outputs": [],
      "source": [
        "#a = 1,2,3,4,5\n",
        "a = 1\n",
        "while(a <= 10): #a = 1,2,3\n",
        "  print(a) #BS1\n",
        "\n",
        "  if(a == 7): #BS2 for while\n",
        "    break #BS1 for if\n",
        "\n",
        "  a = a+1 #BS3 for while"
      ]
    },
    {
      "cell_type": "code",
      "execution_count": null,
      "metadata": {
        "id": "g1XXLhHZGm0o"
      },
      "outputs": [],
      "source": [
        "a = 0\n",
        "while(a < 5): #a = 0,0,0\n",
        "  print(a) #0,0\n",
        "  #continue\n",
        "  a = a+1"
      ]
    },
    {
      "cell_type": "code",
      "execution_count": null,
      "metadata": {
        "id": "6Xk_Wg_yHjYa"
      },
      "outputs": [],
      "source": [
        "a = 1\n",
        "while(a <= 5): #a = 1,2,3,4,5\n",
        "  if(a == 3):\n",
        "    pass\n",
        "  else:\n",
        "    print(a) #1,2,4,5\n",
        "  a = a+1"
      ]
    },
    {
      "cell_type": "code",
      "execution_count": null,
      "metadata": {
        "id": "1E759z3G-czL"
      },
      "outputs": [],
      "source": [
        "# Files Ouput (writing)\n",
        "\n",
        "f=open('madhu.txt','w')\n",
        "# w- permission attribute\n",
        "# w - write\n",
        "# file not exist, file will be created\n",
        "# file exist - file will be opend\n",
        "f.write('Madhu is a Good Boy') # Write\n",
        "f.close() # Closes the file\n"
      ]
    },
    {
      "cell_type": "code",
      "execution_count": null,
      "metadata": {
        "id": "4vRDcxkm_dbO"
      },
      "outputs": [],
      "source": [
        "f=open('mta.txt','r')\n",
        "# r - permission attribute\n",
        "# r- read"
      ]
    },
    {
      "cell_type": "code",
      "execution_count": null,
      "metadata": {
        "id": "nUYSAKvQATDP"
      },
      "outputs": [],
      "source": [
        "f=open('madhu.txt','w')\n",
        "f.write('MTA Bootcamp is going good')\n",
        "f.close()"
      ]
    },
    {
      "cell_type": "code",
      "execution_count": null,
      "metadata": {
        "id": "BynxBPprAom6"
      },
      "outputs": [],
      "source": [
        "f=open('madhu.txt','a')\n",
        "f.write('Madhu is a Good Boy')\n",
        "f.close()\n",
        "\n",
        "# a - append"
      ]
    },
    {
      "cell_type": "code",
      "execution_count": null,
      "metadata": {
        "id": "MPp4tSq7BAgS"
      },
      "outputs": [],
      "source": [
        "f=open('madhu.txt','a')\n",
        "f.write(25)\n",
        "f.close()"
      ]
    },
    {
      "cell_type": "code",
      "execution_count": null,
      "metadata": {
        "id": "wG0EX0c0BLZ4"
      },
      "outputs": [],
      "source": [
        "f=open('madhu.txt','a')\n",
        "f.write(str(25))\n",
        "f.close()"
      ]
    },
    {
      "cell_type": "code",
      "execution_count": null,
      "metadata": {
        "id": "oCAtFGVyBW_f"
      },
      "outputs": [],
      "source": [
        "a=['hello\\n','hi\\n','how are you doing\\n']\n",
        "type(a[0]) # line strings"
      ]
    },
    {
      "cell_type": "code",
      "execution_count": null,
      "metadata": {
        "id": "choj2RffB1ws"
      },
      "outputs": [],
      "source": [
        "f=open('madhu.txt','w')\n",
        "f.writelines(a) # multiple lines\n",
        "f.close()"
      ]
    },
    {
      "cell_type": "code",
      "execution_count": null,
      "metadata": {
        "id": "WKE8r-LQCn2o"
      },
      "outputs": [],
      "source": [
        "# Files Input \n",
        "f=open('madhu.txt','r') # read\n",
        "t=f.read() # entire data from file\n",
        "print(t)\n",
        "f.close()"
      ]
    },
    {
      "cell_type": "code",
      "execution_count": null,
      "metadata": {
        "id": "n_oSnsHrC632"
      },
      "outputs": [],
      "source": [
        "f=open('madhu.txt','r')\n",
        "t=f.read(2) # read only first 2 characters from file\n",
        "print(t)\n",
        "f.close()"
      ]
    },
    {
      "cell_type": "code",
      "execution_count": null,
      "metadata": {
        "id": "nDHMclMYDW3A"
      },
      "outputs": [],
      "source": [
        "f=open('madhu.txt','r')\n",
        "t=f.readlines() # will return the lines in a list datatype\n",
        "print(t)\n",
        "f.close()"
      ]
    },
    {
      "cell_type": "code",
      "execution_count": null,
      "metadata": {
        "id": "U9NYcRSGEzaU"
      },
      "outputs": [],
      "source": [
        "a=10 # static assignment\n",
        "a=input('enter a value') # dynamic assignment"
      ]
    },
    {
      "cell_type": "code",
      "execution_count": null,
      "metadata": {
        "id": "3H4sLPvqFAVP"
      },
      "outputs": [],
      "source": [
        "a=input('enter a value') # 23 - integer value\n",
        "print (a,type(a))"
      ]
    },
    {
      "cell_type": "code",
      "execution_count": null,
      "metadata": {
        "id": "AXlQigAUFZJY"
      },
      "outputs": [],
      "source": [
        "a=int(input('enter a value'))\n",
        "print(a,type(a))"
      ]
    },
    {
      "cell_type": "code",
      "execution_count": null,
      "metadata": {
        "id": "IqcomycNFmLK"
      },
      "outputs": [],
      "source": [
        "a,b=input('enter values').split(',')\n",
        "a=int(a)\n",
        "b=int(b)\n",
        "# a, b are variables\n",
        "# input() -str\n",
        "# split() - breaks the string\n",
        "# ',' - the string will be splitted into parts based in this char\n",
        "print(a,type(a))\n",
        "print(b,type(b))"
      ]
    },
    {
      "cell_type": "code",
      "execution_count": null,
      "metadata": {
        "id": "X7JtO4COGTLl"
      },
      "outputs": [],
      "source": [
        "a,b=input('enter values').split(',')\n",
        "a=int(a)\n",
        "b=float(b)\n",
        "# a, b are variables\n",
        "# input() -str\n",
        "# split() - breaks the string\n",
        "# ',' - the string will be splitted into parts based in this char\n",
        "print(a,type(a))\n",
        "print(b,type(b))"
      ]
    },
    {
      "cell_type": "code",
      "execution_count": null,
      "metadata": {
        "id": "f01umzw7GvIr"
      },
      "outputs": [],
      "source": [
        "# printf(\"%d %d\",a,b) - syntax in c\n",
        "\n",
        "# Old formatting Style\n",
        "a=23\n",
        "b=25\n",
        "print('The values of a,b are %d,%d' % (a,b))"
      ]
    },
    {
      "cell_type": "code",
      "execution_count": null,
      "metadata": {
        "id": "nlHPoYXhHTsJ"
      },
      "outputs": [],
      "source": [
        "a=23\n",
        "print('The value of a is %d' % a)"
      ]
    },
    {
      "cell_type": "code",
      "execution_count": null,
      "metadata": {
        "id": "5xlkKrhMHmTM"
      },
      "outputs": [],
      "source": [
        "# New formatting Style\n",
        "\n",
        "a=23\n",
        "print('The value of a is {0}'.format(a))"
      ]
    },
    {
      "cell_type": "code",
      "execution_count": null,
      "metadata": {
        "id": "-xDMr5pSH17x"
      },
      "outputs": [],
      "source": [
        "a=23\n",
        "b=25\n",
        "c='hi'\n",
        "print('The value of a is {0}, The value of b is {1}, The value of c is {2}'.format(a,b,c))"
      ]
    },
    {
      "cell_type": "code",
      "execution_count": null,
      "metadata": {
        "id": "iDIuGMTtUCp_"
      },
      "outputs": [],
      "source": [
        "a={1:'madblocks',2:'madhu'}\n",
        "b=input('enter id:') # b is str 1 and '1'\n",
        "print(a[b])"
      ]
    },
    {
      "cell_type": "code",
      "execution_count": null,
      "metadata": {
        "id": "KEjw0d4kQKo8"
      },
      "outputs": [],
      "source": [
        "# Function\n",
        "a=1\n",
        "if a==1: # conditional branch\n",
        "  print ('Hello Madhu')\n",
        "\n",
        "def madhu(): # unconditional branch\n",
        "  print ('Hello Madhu')"
      ]
    },
    {
      "cell_type": "code",
      "execution_count": null,
      "metadata": {
        "id": "kB7bIfSmQ31Z"
      },
      "outputs": [],
      "source": [
        "# Types of Functions\n",
        "# 1. Called Function - Function Definition\n",
        "# 2. Calling Function - Function Call\n",
        "\n",
        "# Define Called Function\n",
        "def madhu(): # madhu - function name\n",
        "  print('Hello Welcome') # function branch"
      ]
    },
    {
      "cell_type": "code",
      "execution_count": null,
      "metadata": {
        "id": "piheh74eRhsT"
      },
      "outputs": [],
      "source": [
        "# Make a Function call\n",
        "madhu() # Invoking the Function, Calling the Function"
      ]
    },
    {
      "cell_type": "code",
      "execution_count": null,
      "metadata": {
        "id": "HjqhwcZ-Rw3S"
      },
      "outputs": [],
      "source": [
        "madblocks() # Function Call - first\n",
        "\n",
        "def madblocks(): # Function is defined - second\n",
        "  print('Hello')"
      ]
    },
    {
      "cell_type": "code",
      "execution_count": null,
      "metadata": {
        "id": "c3Hud13kSSpU"
      },
      "outputs": [],
      "source": [
        "# Define a Function\n",
        "def madblocks():\n",
        "  print ('Madhu')\n",
        "  \n",
        "# Invoke/Call the Function\n",
        "madblocks()"
      ]
    },
    {
      "cell_type": "code",
      "execution_count": null,
      "metadata": {
        "id": "Rh8azcgtSfss"
      },
      "outputs": [],
      "source": [
        "# Input of the Function - argument\n",
        "# Output of the Function - return\n",
        "\n",
        "# Function with no arg, no return\n",
        "# Function with arg, no return\n",
        "# Function with no arg, return\n",
        "# Function with arg, return"
      ]
    },
    {
      "cell_type": "code",
      "execution_count": null,
      "metadata": {
        "id": "5gMfbPDrTB1p"
      },
      "outputs": [],
      "source": [
        "# Function with no arg, no return\n",
        "# Program to findout the given number is even or not\n",
        "\n",
        "def madhu():\n",
        "  n=int(input('enter  a number'))\n",
        "  if(n%2==0):\n",
        "    print('even')\n",
        "  else:\n",
        "    print('not an even')\n",
        "\n",
        "madhu()\n",
        "# 1. Input is read inside the function\n",
        "# 2. Output is also printed inside the function"
      ]
    },
    {
      "cell_type": "code",
      "execution_count": null,
      "metadata": {
        "id": "egrO5wGwUCV1"
      },
      "outputs": [],
      "source": [
        "# Function with arg, no return\n",
        "def madhu(t): # Formal Arguments - t - 23\n",
        "  if(t%2==0):\n",
        "    print ('even')\n",
        "  else:\n",
        "    print ('not an even')\n",
        "\n",
        "n=int(input('enter a number')) # 23\n",
        "madhu(n) # Actual Arguments - n - 23\n",
        "\n",
        "# 1. Input is taken outside the function\n",
        "# 2. Output is printed inside the function"
      ]
    },
    {
      "cell_type": "code",
      "execution_count": null,
      "metadata": {
        "id": "j6YTc_5PUywK"
      },
      "outputs": [],
      "source": [
        "# Function without arg, with return variable\n",
        "\n",
        "def madhu():\n",
        "  n=int(input('Enter a number'))\n",
        "  if n%2==0: # even\n",
        "    return (True) # 1\n",
        "  else: # odd\n",
        "    return (False) # 0\n",
        "\n",
        "k=madhu() # function will be called\n",
        "# The value of k will be altered based on n\n",
        "if(k==True):\n",
        "  print('even')\n",
        "else:\n",
        "  print('not even')\n",
        "\n",
        "# 1. No arg, input is read inside the function\n",
        "# 2. with ret, ouput is printed outside the function"
      ]
    },
    {
      "cell_type": "code",
      "execution_count": null,
      "metadata": {
        "id": "WsNyXye2VxuJ"
      },
      "outputs": [],
      "source": [
        "# with arg, with ret\n",
        "def madhu(t):\n",
        "  if(t%2==0):\n",
        "    return True\n",
        "  else:\n",
        "    return False\n",
        "\n",
        "n=int(input('enter a number: '))\n",
        "k=madhu(n)\n",
        "if k==True:\n",
        "  print ('even')\n",
        "else:\n",
        "  print ('odd')\n",
        "\n",
        "# 1. Input is read outside\n",
        "# 2. Output is also printed outside"
      ]
    },
    {
      "cell_type": "code",
      "execution_count": null,
      "metadata": {
        "id": "9dtXU1iwWrct"
      },
      "outputs": [],
      "source": [
        "# Recursive Function\n",
        "def madhu(t): # madhu function t - -1\n",
        "  if(t<0): # -1<0 - True\n",
        "    return # exiting from the function\n",
        "  print(t) # 5 4 3 2 1 0\n",
        "  t-=1 # -1\n",
        "  madhu(t) # madhu(-1)\n",
        "\n",
        "madhu(5) "
      ]
    },
    {
      "cell_type": "code",
      "execution_count": null,
      "metadata": {
        "id": "WRs-FirgYBe5"
      },
      "outputs": [],
      "source": [
        "# Types of Arguments\n",
        "# 1. Positional Arguments\n",
        "# 2. Keyword Arguments\n",
        "\n",
        "def madhu(t1,t2,t3='hi'): # 3 Arguments\n",
        "  print(t1,t2,t3)\n",
        "\n",
        "madhu('hello','MTA') # 2 Arguments\n",
        "madhu('hello','MTA','Python') # 3 Arguments\n",
        "madhu('hello','MTA',t3='Python')\n",
        "\n",
        "# t1,t2 - Positional Arugment\n",
        "# t3 - Keyword Arugment\n",
        "\n",
        "# t1 <- hello, t2 <- MTA\n"
      ]
    },
    {
      "cell_type": "code",
      "execution_count": null,
      "metadata": {
        "id": "73ABMXmOZt2W"
      },
      "outputs": [],
      "source": [
        "def madhu():\n",
        "  \"Hi Hello How are you doing \\\n",
        "  Hope you are doing great\"\n",
        "\n",
        "print(madhu.__doc__) # functionObject.__doc__"
      ]
    },
    {
      "cell_type": "code",
      "execution_count": null,
      "metadata": {
        "id": "VjtjfqD3aLVU"
      },
      "outputs": [],
      "source": [
        "def madhu(*args):\n",
        "  print(args)\n",
        "\n",
        "madhu('hi','hello') # 2 Arg\n",
        "madhu(1,2,3,4,5) # 5 Arg"
      ]
    },
    {
      "cell_type": "code",
      "execution_count": null,
      "metadata": {
        "id": "51jguYZve1uZ"
      },
      "outputs": [],
      "source": [
        "a=5 # No Syntax Error\n",
        "'X'=a # Value - Syntax Error"
      ]
    },
    {
      "cell_type": "code",
      "execution_count": null,
      "metadata": {
        "id": "9QiTumb-fJXc"
      },
      "outputs": [],
      "source": [
        "a=(1,2,3)\n",
        "a[0]=4"
      ]
    },
    {
      "cell_type": "code",
      "execution_count": null,
      "metadata": {
        "id": "9OLge29zfUfC"
      },
      "outputs": [],
      "source": [
        "a='madblocks'\n",
        "a[0]='s'"
      ]
    },
    {
      "cell_type": "code",
      "execution_count": null,
      "metadata": {
        "id": "VluCtXGeffs9"
      },
      "outputs": [],
      "source": [
        "a=3\n",
        "if(a=3): # == - comparision\n",
        "  print('hello')"
      ]
    },
    {
      "cell_type": "code",
      "execution_count": null,
      "metadata": {
        "id": "KymH2bBEf0sY"
      },
      "outputs": [],
      "source": [
        "a=[1,2,3,4]\n",
        "fo i in a: # for\n",
        "  print(i)"
      ]
    },
    {
      "cell_type": "code",
      "execution_count": null,
      "metadata": {
        "id": "RDsNPdxLgV7b"
      },
      "outputs": [],
      "source": [
        "a='hello'\n",
        "b='b'\n",
        "for not b in a: # Misusing the keyword for b not in a\n",
        "  print ('Member')"
      ]
    },
    {
      "cell_type": "code",
      "execution_count": null,
      "metadata": {
        "id": "Qrz8I_ENhCxI"
      },
      "outputs": [],
      "source": [
        "a=3\n",
        "if a==3:\n",
        "  break # misusing the keyword\n",
        "print ('Hello')"
      ]
    },
    {
      "cell_type": "code",
      "execution_count": null,
      "metadata": {
        "id": "KSD2jNWrhhq1"
      },
      "outputs": [],
      "source": [
        "a=2\n",
        "print('The value of a is '+str(a) # missing parathesis"
      ]
    },
    {
      "cell_type": "code",
      "execution_count": null,
      "metadata": {
        "id": "DQZC8Ef1h8Qt"
      },
      "outputs": [],
      "source": [
        "a={1:'hello' 2:'madhu'} # missed comma\n",
        "print (a)"
      ]
    },
    {
      "cell_type": "code",
      "execution_count": null,
      "metadata": {
        "id": "whr-VaHPiRdZ"
      },
      "outputs": [],
      "source": [
        "a={\n",
        "    1:'hello' # one comma missed\n",
        "    'a': {1: 23,3:35} # one bracket missed\n",
        "print (a)"
      ]
    },
    {
      "cell_type": "code",
      "execution_count": null,
      "metadata": {
        "id": "KICaHsMZivXr"
      },
      "outputs": [],
      "source": [
        "madhu() # function call\n",
        "\n",
        "def madhu(): # function def\n",
        "  print ('Hello')"
      ]
    },
    {
      "cell_type": "code",
      "execution_count": null,
      "metadata": {
        "id": "61t3Cr-Yi_jY"
      },
      "outputs": [],
      "source": [
        "a=2 # 1000\n",
        "def madhu():\n",
        "  global a\n",
        "  a+=3 # a=a+3=2+3 # 1000\n",
        "  print (a)\n",
        "madhu()"
      ]
    },
    {
      "cell_type": "code",
      "execution_count": null,
      "metadata": {
        "id": "nwqON6Hsj_R2"
      },
      "outputs": [],
      "source": [
        "a=int(input('enter a number: '))\n",
        "print(a)"
      ]
    },
    {
      "cell_type": "code",
      "execution_count": null,
      "metadata": {
        "id": "AVcMPOi9km1I"
      },
      "outputs": [],
      "source": [
        "try:\n",
        "  a=int(input('enter a value'))\n",
        "  print (a)\n",
        "except: # when there is any error in try block\n",
        "  print ('Please enter integer values only')"
      ]
    },
    {
      "cell_type": "code",
      "execution_count": null,
      "metadata": {
        "id": "oEb25A2Olc1N"
      },
      "outputs": [],
      "source": [
        "try:\n",
        "  a=33\n",
        "  b=int(input('enter a value'))\n",
        "  print(a/b) # 33/b -> 33/0\n",
        "except:\n",
        "  print('Enter non-zero values only')"
      ]
    },
    {
      "cell_type": "code",
      "execution_count": null,
      "metadata": {
        "id": "oypL5lpWmAz-"
      },
      "outputs": [],
      "source": [
        "# Multiple Errors\n",
        "try:\n",
        "  a=int(input('enter a value'))\n",
        "  print(33/a)\n",
        "except ValueError:\n",
        "  print('Enter integer values only')\n",
        "except ZeroDivisionError:\n",
        "  print('Enter non-zero values only')"
      ]
    },
    {
      "cell_type": "code",
      "execution_count": null,
      "metadata": {
        "id": "53cOS_Elmw3_"
      },
      "outputs": [],
      "source": [
        "try:\n",
        "  a=int(input('Enter a value'))  # 300\n",
        "  a+=3 # 303\n",
        "except:\n",
        "  print('enter integer values only')\n",
        "finally:\n",
        "  a=10\n",
        "  print(a)\n",
        "\n",
        "# For every try clause there can be multiple except caluses\n",
        "# For every try caluse there will be only one finally caluse"
      ]
    },
    {
      "cell_type": "code",
      "execution_count": null,
      "metadata": {
        "id": "ixe3bUdWn6HT"
      },
      "outputs": [],
      "source": [
        "try:\n",
        "  a=int(input('enter a value'))\n",
        "  if a<=0:\n",
        "    raise ValueError('Enter Positive Numbers only')\n",
        "except ValueError as e:\n",
        "  print (e)\n"
      ]
    },
    {
      "cell_type": "code",
      "execution_count": null,
      "metadata": {
        "id": "gZpMwkHCpKrH"
      },
      "outputs": [],
      "source": [
        "# Program to read a list through CLA\n",
        "# python demo.py 23 hello 2+3j\n",
        "import sys\n",
        "a=[]\n",
        "l=len(sys.argv) # l= 4\n",
        "for i in range(1,l): # range(1,4) - > [1,2,3]\n",
        "  a.append(sys.argv[i]) # sys.argv[1]\n",
        "\n",
        "print(a)\n"
      ]
    },
    {
      "cell_type": "code",
      "execution_count": null,
      "metadata": {
        "id": "-9SRglxptw3h"
      },
      "outputs": [],
      "source": [
        "# Modules\n",
        "\n",
        "import math # all the methods are to be accessed with . operator\n",
        "print(math.sin(0)) # sin - method \n",
        "print(math.cos(0)) # cos - method"
      ]
    },
    {
      "cell_type": "code",
      "execution_count": null,
      "metadata": {
        "id": "_04lMXeiui1V"
      },
      "outputs": [],
      "source": [
        "from math import sin,cos # these functions can be accesed\n",
        "print(sin(0))\n",
        "print(cos(0))\n",
        "print(math.tan(0))\n"
      ]
    },
    {
      "cell_type": "code",
      "execution_count": null,
      "metadata": {
        "id": "ksG5xwi2vDp_"
      },
      "outputs": [],
      "source": [
        "from math import * # any method from math module\n",
        "print(sin(0))\n",
        "print(cos(0))"
      ]
    },
    {
      "cell_type": "code",
      "execution_count": null,
      "metadata": {
        "id": "s3gMeE04wgqG"
      },
      "outputs": [],
      "source": [
        "import math\n",
        "a=5.3 # (5, 6)\n",
        "print(math.ceil(a)) # round-off away from zero"
      ]
    },
    {
      "cell_type": "code",
      "execution_count": null,
      "metadata": {
        "id": "wWb0eTUjxEC2"
      },
      "outputs": [],
      "source": [
        "import math\n",
        "a=-1.3 # (-1,-2)\n",
        "print(math.ceil(a)) # round-off towards zero"
      ]
    },
    {
      "cell_type": "code",
      "execution_count": null,
      "metadata": {
        "id": "cd2UlA3zxa8s"
      },
      "outputs": [],
      "source": [
        "import math\n",
        "a=5.3 # (5,6)\n",
        "print(math.floor(a)) # round-off towards zero\n",
        "print(math.ceil(a)) # round-off away from zero"
      ]
    },
    {
      "cell_type": "code",
      "execution_count": null,
      "metadata": {
        "id": "KQ3P32r-x1ri"
      },
      "outputs": [],
      "source": [
        "import math\n",
        "a=-5.3\n",
        "print(math.floor(a)) # round-off away from zero"
      ]
    },
    {
      "cell_type": "code",
      "execution_count": null,
      "metadata": {
        "id": "4V49p2YbyChG"
      },
      "outputs": [],
      "source": [
        "import math\n",
        "a=-5.3\n",
        "print(math.fabs(a))"
      ]
    },
    {
      "cell_type": "code",
      "execution_count": null,
      "metadata": {
        "id": "O0ZMi9_tySVP"
      },
      "outputs": [],
      "source": [
        "import math\n",
        "a=-10\n",
        "b=3\n",
        "print(a%b) # -10%3 -> (2-12)%3 -> 2%3 - 12%3 = 2-0 = 2\n",
        "print(math.fmod(a,b)) # -> a%b = 10%3 = 1"
      ]
    },
    {
      "cell_type": "code",
      "execution_count": null,
      "metadata": {
        "id": "2-TxNKpmzuof"
      },
      "outputs": [],
      "source": [
        "import os\n",
        "\n",
        "os.mkdir('madhu')"
      ]
    },
    {
      "cell_type": "code",
      "execution_count": null,
      "metadata": {
        "id": "LhalfguO0aNh"
      },
      "outputs": [],
      "source": [
        "import os\n",
        "os.getcwd()"
      ]
    },
    {
      "cell_type": "code",
      "execution_count": null,
      "metadata": {
        "id": "LMKKUMFo0mvB"
      },
      "outputs": [],
      "source": [
        "import os\n",
        "os.chdir('madhu') # it is entering into madhu directory"
      ]
    },
    {
      "cell_type": "code",
      "execution_count": null,
      "metadata": {
        "id": "E7y8m4_60wWD"
      },
      "outputs": [],
      "source": [
        "import os\n",
        "os.getcwd()"
      ]
    },
    {
      "cell_type": "code",
      "execution_count": null,
      "metadata": {
        "id": "nwrt-siQ09ua"
      },
      "outputs": [],
      "source": [
        "f=open('madhu.txt','w')\n",
        "f.write('Hello')\n",
        "f.close()"
      ]
    },
    {
      "cell_type": "code",
      "execution_count": null,
      "metadata": {
        "id": "KmySCrxZ1JCy"
      },
      "outputs": [],
      "source": [
        "import os\n",
        "os.listdir()"
      ]
    },
    {
      "cell_type": "code",
      "execution_count": null,
      "metadata": {
        "id": "9VVPGPss1og7"
      },
      "outputs": [],
      "source": [
        "import os.path\n",
        "os.path.basename('/content/madhu')"
      ]
    },
    {
      "cell_type": "code",
      "execution_count": null,
      "metadata": {
        "id": "7L3hZsUj15j-"
      },
      "outputs": [],
      "source": [
        "import os\n",
        "os.chdir('/content')"
      ]
    },
    {
      "cell_type": "code",
      "execution_count": null,
      "metadata": {
        "id": "3BkpEMah1_gK"
      },
      "outputs": [],
      "source": [
        "import os\n",
        "os.getcwd()"
      ]
    },
    {
      "cell_type": "code",
      "execution_count": null,
      "metadata": {
        "id": "vXdEtchh2S78"
      },
      "outputs": [],
      "source": [
        "import os.path\n",
        "os.path.basename(os.getcwd())"
      ]
    },
    {
      "cell_type": "code",
      "execution_count": null,
      "metadata": {
        "id": "yg4d8fOr2GsG"
      },
      "outputs": [],
      "source": [
        "import os\n",
        "os.listdir() # list data type"
      ]
    },
    {
      "cell_type": "code",
      "execution_count": null,
      "metadata": {
        "id": "MkbtG7qw2e6G"
      },
      "outputs": [],
      "source": [
        "import os.path\n",
        "os.path.dirname('/content/madhu')"
      ]
    },
    {
      "cell_type": "code",
      "execution_count": null,
      "metadata": {
        "id": "IrMe0adb3FUE"
      },
      "outputs": [],
      "source": [
        "import os.path\n",
        "print(os.path.isdir('madhu'))"
      ]
    },
    {
      "cell_type": "code",
      "execution_count": null,
      "metadata": {
        "id": "AJiSgxZt3WeS"
      },
      "outputs": [],
      "source": [
        "import os\n",
        "import os.path\n",
        "\n",
        "if(os.path.isdir('madhu')): # True\n",
        "  os.chdir('madhu') # entering into madhu folder\n",
        "  if(os.path.isfile('madhu.txt')): # True\n",
        "    f=open('madhu.txt','r')\n",
        "    print(f.read())\n",
        "    f.close()\n"
      ]
    },
    {
      "cell_type": "code",
      "execution_count": null,
      "metadata": {
        "id": "qrSCikpV4TjI"
      },
      "outputs": [],
      "source": [
        "import random\n",
        "print(random.random()) # 0 to 1"
      ]
    },
    {
      "cell_type": "code",
      "execution_count": null,
      "metadata": {
        "id": "ROUeVnB34ovY"
      },
      "outputs": [],
      "source": [
        "import random\n",
        "print(random.randint(1,10)) # 1,10 - inclusive"
      ]
    },
    {
      "cell_type": "code",
      "execution_count": null,
      "metadata": {
        "id": "71OyWbPt45KL"
      },
      "outputs": [],
      "source": [
        "import random\n",
        "print(random.randrange(1,10,2)) # 10 is not inclusive"
      ]
    },
    {
      "cell_type": "code",
      "execution_count": null,
      "metadata": {
        "id": "t5cQGsWY5gDJ"
      },
      "outputs": [],
      "source": [
        "import datetime\n",
        "\n",
        "print(datetime.datetime.now())"
      ]
    },
    {
      "cell_type": "code",
      "execution_count": null,
      "metadata": {
        "id": "fYrT6lD664QV"
      },
      "outputs": [],
      "source": [
        "from datetime import datetime\n",
        "now=datetime.now()\n",
        "s=now.strftime('%m/%d/%Y, %H:%M:%S')\n",
        "print(s)"
      ]
    }
  ],
  "metadata": {
    "colab": {
      "name": "MTA September_Batch2.ipynb",
      "provenance": []
    },
    "kernelspec": {
      "display_name": "Python 3",
      "name": "python3"
    }
  },
  "nbformat": 4,
  "nbformat_minor": 0
}
